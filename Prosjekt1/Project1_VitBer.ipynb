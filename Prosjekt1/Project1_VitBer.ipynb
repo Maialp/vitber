{
 "cells": [
  {
   "cell_type": "markdown",
   "metadata": {
    "cell_id": "f66e56ef-7167-4a9c-8942-3722605ae811",
    "deepnote_cell_type": "markdown",
    "id": "9TiasAexOrfg",
    "tags": []
   },
   "source": [
    "##### Imports:"
   ]
  },
  {
   "cell_type": "code",
   "execution_count": 1,
   "metadata": {
    "cell_id": "7194fe3d-2f74-4950-ba06-a4c54c65eb53",
    "deepnote_cell_type": "code",
    "deepnote_to_be_reexecuted": true,
    "execution_millis": 59324601,
    "execution_start": 1644161940553,
    "id": "qRsCPHseOrfi",
    "source_hash": "e452f19b",
    "tags": []
   },
   "outputs": [],
   "source": [
    "import numpy as np\n",
    "import matplotlib.pyplot as plt\n",
    "import random\n",
    "import math\n",
    "import time\n",
    "import multiprocessing as mp"
   ]
  },
  {
   "cell_type": "markdown",
   "metadata": {
    "cell_id": "89047615-0476-4d52-afd1-f64f52955fb7",
    "deepnote_cell_type": "markdown",
    "id": "hTU8HcysOrfj",
    "tags": []
   },
   "source": [
    "### Oppgave 1\n",
    "\n",
    "##### 1a)\n",
    "Write a function that takes as input the grid size, N , and the number of monomers\n",
    "we wish to consider M . The function should return a grid with the monomers placed\n",
    "randomly. Monomers can only be placed in the solvent, not on top of other monomers.\n",
    "Check that the grid has 2M non-zero values. M of these values represent positively\n",
    "charged monomers, the other M represent negatively charged monomers."
   ]
  },
  {
   "cell_type": "code",
   "execution_count": 2,
   "metadata": {
    "cell_id": "c8a4944d-db73-4bbd-aba2-5a1144f20b7d",
    "deepnote_cell_type": "code",
    "deepnote_to_be_reexecuted": false,
    "execution_millis": 5,
    "execution_start": 1644161943585,
    "id": "yjPUSV6mOrfk",
    "source_hash": "4f301f81",
    "tags": []
   },
   "outputs": [],
   "source": [
    "def setup_monomers(N, M):\n",
    "    \"\"\"\n",
    "    Lager et 2d-grid med positive og negative monomers.\n",
    "    N: grid size\n",
    "    M: monomers\n",
    "    \"\"\"\n",
    "    #sampler \"monomers\"\n",
    "    indexes = np.arange(0, N*N, 1).tolist() #må være liste for at sample skal fungere\n",
    "    samples = random.sample(indexes, 2*M) #sample() sørger for at det ikke blir skapt duplikater.\n",
    "    charges = np.concatenate((np.arange(-M, -0), np.arange(1, M+1))) #charges: -20, -19, ..., -1, 1, ..., 19, 20\n",
    "    random.shuffle(charges) #shuffler ladningene\n",
    "    \n",
    "    locations = [] #en liste med indexer til hvor monomer eksisterer i grid.\n",
    "\n",
    "    #lager grid\n",
    "    grid = np.zeros((N, N)) #tomt grid\n",
    "\n",
    "    for j in range(len(samples)): \n",
    "        samp_index = samples[j] #sample index (fra 1d samples)\n",
    "        index = (samp_index // N, samp_index % N) #1D -> 2D index\n",
    "        grid[index] = charges[j] #legger til ladingen\n",
    "        locations.append(index)\n",
    "        \n",
    "    return grid, locations"
   ]
  },
  {
   "cell_type": "code",
   "execution_count": 3,
   "metadata": {
    "cell_id": "170f1500-7f96-4866-9dfb-efa444395687",
    "colab": {
     "base_uri": "https://localhost:8080/"
    },
    "deepnote_cell_type": "code",
    "deepnote_to_be_reexecuted": false,
    "execution_millis": 12,
    "execution_start": 1644161945183,
    "id": "T_fo7lIVOrfl",
    "outputId": "aaedfe3a-39bb-497f-fc02-e0bc68e8bbad",
    "source_hash": "166e9dd1",
    "tags": []
   },
   "outputs": [
    {
     "name": "stdout",
     "output_type": "stream",
     "text": [
      "grid size:  (15, 15)\n",
      "Number of grid elements:  225\n",
      "Number of zero elements: 175\n",
      "Number of non-zero elements: 50  =  50\n"
     ]
    }
   ],
   "source": [
    "N = 15 #bredden på universet\n",
    "M = 25 #antall positive/negative monomers\n",
    "\n",
    "universe, monomers = setup_monomers(N,M) #creating the universe\n",
    "\n",
    "print(\"grid size: \", universe.shape)\n",
    "print(\"Number of grid elements: \", universe.shape[0] * universe.shape[1])\n",
    "print(\"Number of zero elements:\", universe.shape[0] * universe.shape[1] - len(monomers))\n",
    "print(\"Number of non-zero elements:\", len(monomers), \" = \", np.count_nonzero(universe))"
   ]
  },
  {
   "cell_type": "markdown",
   "metadata": {
    "cell_id": "245b2a93-84cf-4e1b-af0f-9e3a9fb4602d",
    "deepnote_cell_type": "markdown",
    "id": "4YQeoNmOOrfm",
    "tags": []
   },
   "source": [
    "##### 1b)\n",
    "Use plt.pcolormesh (or a similiar function) to visualize a system with grid\n",
    "size N . Include a figure of the system you created in 1a). It should be clear from\n",
    "the figure what N and M you have chosen. Tip: If you decide to use the function\n",
    "plt.pcolormesh , you might notice that the rows are interchanged in the plot and in\n",
    "matrix form. An easy fix for this is to use grid[::-1,] as input to plt.pcolormesh "
   ]
  },
  {
   "cell_type": "code",
   "execution_count": 4,
   "metadata": {
    "cell_id": "07938d60-3570-48fd-a194-963047295b24",
    "colab": {
     "base_uri": "https://localhost:8080/",
     "height": 295
    },
    "deepnote_cell_type": "code",
    "deepnote_output_heights": [
     280
    ],
    "deepnote_to_be_reexecuted": false,
    "execution_millis": 1171,
    "execution_start": 1644161948252,
    "id": "B2A65zNzOrfn",
    "outputId": "2da47961-df04-40f6-9763-fac6fed96030",
    "source_hash": "d305fb43",
    "tags": []
   },
   "outputs": [
    {
     "data": {
      "image/png": "[encoded data removed]",
      "text/plain": [
       "<Figure size 432x288 with 1 Axes>"
      ]
     },
     "metadata": {
      "needs_background": "light"
     },
     "output_type": "display_data"
    }
   ],
   "source": [
    "def plot_grid(grid):\n",
    "    plt.pcolormesh(grid, vmin = -1, vmax = 1)\n",
    "    N = grid.shape[0]\n",
    "    M = np.count_nonzero(grid)\n",
    "    plt.xlabel(f\"N\")\n",
    "    plt.ylabel(f\"N\")\n",
    "    plt.title(f\"{M} monomers\")\n",
    "    plt.show()\n",
    "\n",
    "plot_grid(universe)"
   ]
  },
  {
   "cell_type": "markdown",
   "metadata": {
    "cell_id": "e28d2172-f487-404e-becd-10f8ba9d309e",
    "deepnote_cell_type": "markdown",
    "id": "D1f8vwp9Orfo",
    "tags": []
   },
   "source": [
    "##### 1c)\n",
    "Write a function that takes the size of the grid N , and the matrix indices i and j\n",
    "as input, and returns an array containing the coordinates of the four nearest neighbors.\n",
    "Remember to account for the periodic boundary conditions as described in subsection\n",
    "2.3"
   ]
  },
  {
   "cell_type": "code",
   "execution_count": 5,
   "metadata": {
    "cell_id": "6f4116eb-94bf-4d73-ab75-c3be6059a5e9",
    "deepnote_cell_type": "code",
    "deepnote_output_heights": [
     280
    ],
    "deepnote_to_be_reexecuted": false,
    "execution_millis": 0,
    "execution_start": 1644161952976,
    "id": "s_nwwzxmOrfp",
    "source_hash": "c889741f",
    "tags": []
   },
   "outputs": [],
   "source": [
    "def neighbours(N, i, j):\n",
    "    \"\"\"\n",
    "    returns a list containing four neighbours.\n",
    "    Assumes quadratic grid.\n",
    "    \n",
    "    Tror dette funker siden i er 1-indeksert nummer på kollonne, \n",
    "    og j er samme for rad. Virker tungvint men har sikkert noe med grensetilfeller å gjøre...\n",
    "    \"\"\"\n",
    "    left_i = (i - 1 + N) % N \n",
    "    right_i = (i + 1) % N\n",
    "    above_j = (j - 1 + N) % N\n",
    "    below_j = (j + 1) % N\n",
    "\n",
    "    return [[left_i, j], [i, above_j], [right_i, j],[i, below_j]]"
   ]
  },
  {
   "cell_type": "markdown",
   "metadata": {
    "cell_id": "73b2386b-2369-4c88-a9fb-6a20c1c84987",
    "deepnote_cell_type": "markdown",
    "id": "hFVR-AVpOrfq",
    "tags": []
   },
   "source": [
    "##### 1d)\n",
    "Write a function that takes the grid as input, and returns the total energy of the\n",
    "system. Tip: For all monomers, use equation (4) to calculate the energy between the\n",
    "monomer and all of its nearest neighbors. The energy of the system is the sum of all\n",
    "the monomer energies (divided by some integer that account for the overcounting of\n",
    "interactions). You may introduce a dimensionless quantity E/α if you wish. Calculate\n",
    "the energy of the grid you presented in 1b).\n"
   ]
  },
  {
   "cell_type": "code",
   "execution_count": 6,
   "metadata": {
    "cell_id": "cf000d5a-c618-45c6-ac4b-6b7841c55601",
    "deepnote_cell_type": "code",
    "deepnote_output_heights": [
     79
    ],
    "deepnote_to_be_reexecuted": false,
    "execution_millis": 4,
    "execution_start": 1644161958618,
    "id": "wtAEMtthOrfq",
    "source_hash": "d2c1d2d6",
    "tags": []
   },
   "outputs": [],
   "source": [
    "def total_energy(grid):\n",
    "    \"\"\"\n",
    "    Søker gjennom monomene og summerer opp energien til systemet. \n",
    "    Regner ut energien for hvert NN par.\n",
    "    \n",
    "    pairs er en liste med alle nabo-monomer parene som algoritmen regner ut energien for.\n",
    "    (bool) calculated_pair sørger for at vi ikke regner ut to ganger per par.\n",
    "    \n",
    "    \"\"\"\n",
    "    e = 1.6e-19 #elementær ladning\n",
    "    e_r = 78 #relative permitivity\n",
    "    e_0 = 8.854188e-12 #elektrisk permitivitet\n",
    "    a = 23e-6 #avstand mellom monomene\n",
    "    \n",
    "    alpha = e**2 / (4 * np.pi * e_0 * e_r * a**2)\n",
    "    \n",
    "    E = 0 #init\n",
    "    \n",
    "    N = grid.shape[0]\n",
    "    monomers = np.transpose(np.nonzero(grid)) #returns a list with indexes corresponding to monomers\n",
    "    pairs = []\n",
    "\n",
    "    for monomer in monomers:\n",
    "        this = grid[monomer[0], monomer[1]]\n",
    "        for neighbour in neighbours(N, monomer[0], monomer[1]):\n",
    "            #sjekker om nabo-monomer paret allerede er beregnet for.\n",
    "            pair = [monomer.tolist(), neighbour]\n",
    "            reversed_pair = [pair[1], pair[0]]\n",
    "\n",
    "            calculated_pair = (pair in pairs) or (reversed_pair in pairs) #true if already calculated.\n",
    "            \n",
    "            if(grid[neighbour[0], neighbour[1]] != 0.0 and not calculated_pair):\n",
    "                pairs.append(pair)\n",
    "                E += alpha * np.sign(this * grid[neighbour[0], neighbour[1]]) #regner ut.\n",
    "                \n",
    "    return E"
   ]
  },
  {
   "cell_type": "markdown",
   "metadata": {
    "cell_id": "2f000df9-e26d-4b71-b832-ad49a775d683",
    "deepnote_cell_type": "markdown",
    "id": "h4QRX2IKOrfr",
    "tags": []
   },
   "source": [
    "##### 1e)\n",
    "Implement the Monte Carlo algorithm described in Algorithm 2. The input pa-\n",
    "rameters should be the number of Monte Carlo steps in the simulation, Ns, as well as N ,\n",
    "M , T and any other parameters you find necessary. It will be convenient to also have a\n",
    "grid as an argument to the function. This grid is the initial system configuration before\n",
    "the simulation starts. For monomer-systems, the only illegal move is trying to move a\n",
    "monomer on top of another monomer."
   ]
  },
  {
   "cell_type": "code",
   "execution_count": 7,
   "metadata": {
    "cell_id": "b67b87bf-50c1-4efa-a182-7d31ba7f227e",
    "deepnote_cell_type": "code",
    "deepnote_output_heights": [
     79
    ],
    "deepnote_to_be_reexecuted": false,
    "execution_millis": 0,
    "execution_start": 1644161963149,
    "id": "XTiXiccrOrfs",
    "source_hash": "4c25d911",
    "tags": []
   },
   "outputs": [],
   "source": [
    "from tqdm import tqdm\n",
    "\n",
    "def MC(Ns, T, init_grid):\n",
    "    \"\"\"\n",
    "    Monte carlo.\n",
    "\n",
    "    Simulerer systemet ved bruk av tilfeldige valg. \n",
    "    Et tilfeldig monomer blir valgt og beveger seg i en tilfeldig retning. Dette blir enten tolket som \n",
    "    en termisk vibrasjon eller en bevegelse mot en lavere system energi.\n",
    "    \"\"\"\n",
    "    t = time.time() #tid\n",
    "\n",
    "    k_b = 1.38e-23\n",
    "    beta = 1 / (k_b * T)\n",
    "    eV = 1.602176634e-19\n",
    "    \n",
    "    count = [0, 0, 0] #teller hvor MC havner, i \"if\", \"elif\" eller \"else\"\n",
    "    \n",
    "    N = init_grid.shape[0] #størrelsen på grid\n",
    "    M = np.count_nonzero(init_grid) / 2 #antall positive/negative ladninger\n",
    "    \n",
    "    print(\"starting simulation [ T =\",T,\"K, Ns =\",Ns,\", M =\",M,\", N =\",N, \"]\")\n",
    "\n",
    "    grid = init_grid\n",
    "\n",
    "    monomers = np.transpose(np.nonzero(grid)) #gir indexer til ikke-negative ruter i grid. Aka, monomer \n",
    "    \n",
    "    energies = [total_energy(grid)] #liste som holder på utviklingen av energi\n",
    "    print(\"initial energy: \", energies[-1] / eV, \"eV\")\n",
    "    n = 0\n",
    "\n",
    "    for it in tqdm(range(Ns)):\n",
    "\n",
    "        prev_grid = grid.copy()\n",
    "        prev_monomers = monomers.copy()\n",
    "\n",
    "        #gjør tilfeldige valg:\n",
    "        rand_monomer_index = round(np.random.uniform(0, len(monomers)-1)) #velger en random monomer index\n",
    "        prev_monomer = monomers[rand_monomer_index] #tilfeldig monomer index til grid.\n",
    "        \n",
    "        rand_neighbour_index = round(np.random.uniform(0, 3)) #velger en av 4 naboer\n",
    "        new_monomer = neighbours(N, prev_monomer[0], prev_monomer[1])[rand_neighbour_index] #flyttet til naboposisjon.\n",
    "        \n",
    "        illegalMove = (grid[new_monomer[0], new_monomer[1]] != 0) #monomene kan kun bevege seg til et tomt område\n",
    "        \n",
    "        if illegalMove:\n",
    "            continue #prøver på nytt. \n",
    "            #continue gjør at vi begynner på ny i loopen, og det som kommer etterpå blir da ikke gjort.\n",
    "        \n",
    "        #oppdaterer grid og monomer listen\n",
    "        prev_index = (prev_monomer[0], prev_monomer[1])\n",
    "        new_index = (new_monomer[0], new_monomer[1])\n",
    "\n",
    "        charge = grid[prev_index] \n",
    "        grid[prev_index] = 0\n",
    "        grid[new_index] = charge\n",
    "        monomers[rand_monomer_index] = new_monomer\n",
    "\n",
    "        new_energy = total_energy(grid) #energien til systemet etter grid er oppdatert\n",
    "        \n",
    "        \n",
    "        if new_energy <= energies[-1]: \n",
    "            energies.append(new_energy)\n",
    "            count[0] += 1\n",
    "            #endringen er akseptert\n",
    "\n",
    "        elif random.uniform(0, 1) < np.exp(-beta * (new_energy - energies[-1])): #termisk bevegelse, elns. np.exp(-beta * (new_energy - energies[-1]))\n",
    "            energies.append(new_energy)\n",
    "            count[1] += 1\n",
    "            #endringen er akseptert som resultat av termisk vibrasjon\n",
    "\n",
    "        else:\n",
    "            #endringen er ikke akseptert. Grid og monomer blir tilbakesatt til slik de var og energien er uforandret.\n",
    "            grid = prev_grid \n",
    "            monomers = prev_monomers\n",
    "            energies.append(energies[-1]) #energien til systemet  er ikke endret\n",
    "            count[2] += 1\n",
    "            \n",
    "    \n",
    "        #n += 1\n",
    "        #if(it/Ns % 0.1 == 0):\n",
    "        #    # \"gjetter\" hvor mye tid som er igjen\n",
    "        #    print(it/Ns * 100, \"% ~\", round(((time.time()-t) / n) * (Ns - it)), \"seconds remaining.\", \"system energy: \", energies[-1] / eV, \"eV\")\n",
    "        #    t = time.time()\n",
    "        #    n = 0\n",
    "   # print(\"100% ~ 0 seconds remaining. system energy: \", energies[-1])\n",
    "    \n",
    "    \n",
    "    return grid, [e / eV for e in energies], count"
   ]
  },
  {
   "cell_type": "markdown",
   "metadata": {
    "cell_id": "fb4b1899-1754-4892-b59c-9f118031b855",
    "deepnote_cell_type": "markdown",
    "id": "HeckhViEOrfs",
    "tags": []
   },
   "source": [
    "##### 1f)\n",
    "Run two simulations, both with, Ns = 50000, N = 15 and M = 25, but with\n",
    "differing T . Use T = 200 K and T = 500 K. We note that while such temperature\n",
    "variations are not realistic from a biological point of view, it is still interesting to consider\n",
    "its impact. After the last MC step is complete, save the grid configuration from the low\n",
    "T simulation (Using e.g. np.savez ). Plot how the energy develops as a function of t for\n",
    "both simulations in the same figure. Determine visually how many MC steps are needed\n",
    "for the system to reach its equilibrium2 for the two temperatures. We denote this value\n",
    "as tequil. Explain why tequil is different for the two temperatures. Hint: You might want\n",
    "to relate this to the concept of local energy minima."
   ]
  },
  {
   "cell_type": "markdown",
   "metadata": {
    "cell_id": "665b001c-dc87-4798-89ee-a3527cd38440",
    "deepnote_cell_type": "markdown",
    "id": "nus86NtcOrft",
    "tags": []
   },
   "source": [
    "Simulating two simulations with T = 200K and T = 500K:"
   ]
  },
  {
   "cell_type": "code",
   "execution_count": null,
   "metadata": {
    "cell_id": "b443b53e-87d0-4eee-ab29-993ff34a4ecd",
    "deepnote_cell_type": "code",
    "deepnote_to_be_reexecuted": false,
    "execution_millis": 1,
    "execution_start": 1644161972009,
    "id": "m9P3pIDrOrft",
    "source_hash": "c6d9ef7d",
    "tags": []
   },
   "outputs": [],
   "source": [
    "T1 = 200 #k\n",
    "T2 = 500 #k\n",
    "\n",
    "Ns = 50000\n",
    "\n",
    "M = 25\n",
    "N = 15\n",
    "\n",
    "init = setup_monomers(N, M)[0]"
   ]
  },
  {
   "cell_type": "markdown",
   "metadata": {
    "id": "V-4Ap7MYRnbz"
   },
   "source": [
    "Ikke kjør blokken under ofte. Tar en del tid."
   ]
  },
  {
   "cell_type": "code",
   "execution_count": 9,
   "metadata": {
    "cell_id": "096059ad-192d-4c92-9754-c2b0e220decc",
    "colab": {
     "base_uri": "https://localhost:8080/"
    },
    "deepnote_cell_type": "code",
    "deepnote_to_be_reexecuted": false,
    "execution_millis": 69799,
    "execution_start": 1644161975321,
    "id": "pGdqS3aTOrfu",
    "outputId": "649a35c6-222b-4fc0-916f-d4b1b4d73ad4",
    "source_hash": "26913e66",
    "tags": []
   },
   "outputs": [
    {
     "ename": "KeyboardInterrupt",
     "evalue": "",
     "output_type": "error",
     "traceback": [
      "\u001b[0;31m---------------------------------------------------------------------------\u001b[0m",
      "\u001b[0;31mKeyboardInterrupt\u001b[0m                         Traceback (most recent call last)",
      "\u001b[0;32m<ipython-input-9-7d3640438c8d>\u001b[0m in \u001b[0;36m<module>\u001b[0;34m\u001b[0m\n\u001b[1;32m      4\u001b[0m \u001b[0;34m\u001b[0m\u001b[0m\n\u001b[1;32m      5\u001b[0m \u001b[0mpool\u001b[0m \u001b[0;34m=\u001b[0m \u001b[0mmp\u001b[0m\u001b[0;34m.\u001b[0m\u001b[0mPool\u001b[0m\u001b[0;34m(\u001b[0m\u001b[0mmp\u001b[0m\u001b[0;34m.\u001b[0m\u001b[0mcpu_count\u001b[0m\u001b[0;34m(\u001b[0m\u001b[0;34m)\u001b[0m\u001b[0;34m)\u001b[0m \u001b[0;31m#for parallell processing\u001b[0m\u001b[0;34m\u001b[0m\u001b[0;34m\u001b[0m\u001b[0m\n\u001b[0;32m----> 6\u001b[0;31m \u001b[0moutput\u001b[0m \u001b[0;34m=\u001b[0m \u001b[0mpool\u001b[0m\u001b[0;34m.\u001b[0m\u001b[0mstarmap\u001b[0m\u001b[0;34m(\u001b[0m\u001b[0mMC\u001b[0m\u001b[0;34m,\u001b[0m \u001b[0mdata\u001b[0m\u001b[0;34m)\u001b[0m \u001b[0;31m#simulating two simulations using multiprocessing\u001b[0m\u001b[0;34m\u001b[0m\u001b[0;34m\u001b[0m\u001b[0m\n\u001b[0m\u001b[1;32m      7\u001b[0m \u001b[0;34m\u001b[0m\u001b[0m\n\u001b[1;32m      8\u001b[0m \u001b[0mt1\u001b[0m \u001b[0;34m=\u001b[0m \u001b[0mtime\u001b[0m\u001b[0;34m.\u001b[0m\u001b[0mtime\u001b[0m\u001b[0;34m(\u001b[0m\u001b[0;34m)\u001b[0m\u001b[0;34m\u001b[0m\u001b[0;34m\u001b[0m\u001b[0m\n",
      "\u001b[0;32m~/opt/anaconda3/lib/python3.8/multiprocessing/pool.py\u001b[0m in \u001b[0;36mstarmap\u001b[0;34m(self, func, iterable, chunksize)\u001b[0m\n\u001b[1;32m    370\u001b[0m         \u001b[0;31m`\u001b[0m\u001b[0mfunc\u001b[0m\u001b[0;31m`\u001b[0m \u001b[0;32mand\u001b[0m \u001b[0;34m(\u001b[0m\u001b[0ma\u001b[0m\u001b[0;34m,\u001b[0m \u001b[0mb\u001b[0m\u001b[0;34m)\u001b[0m \u001b[0mbecomes\u001b[0m \u001b[0mfunc\u001b[0m\u001b[0;34m(\u001b[0m\u001b[0ma\u001b[0m\u001b[0;34m,\u001b[0m \u001b[0mb\u001b[0m\u001b[0;34m)\u001b[0m\u001b[0;34m.\u001b[0m\u001b[0;34m\u001b[0m\u001b[0;34m\u001b[0m\u001b[0m\n\u001b[1;32m    371\u001b[0m         '''\n\u001b[0;32m--> 372\u001b[0;31m         \u001b[0;32mreturn\u001b[0m \u001b[0mself\u001b[0m\u001b[0;34m.\u001b[0m\u001b[0m_map_async\u001b[0m\u001b[0;34m(\u001b[0m\u001b[0mfunc\u001b[0m\u001b[0;34m,\u001b[0m \u001b[0miterable\u001b[0m\u001b[0;34m,\u001b[0m \u001b[0mstarmapstar\u001b[0m\u001b[0;34m,\u001b[0m \u001b[0mchunksize\u001b[0m\u001b[0;34m)\u001b[0m\u001b[0;34m.\u001b[0m\u001b[0mget\u001b[0m\u001b[0;34m(\u001b[0m\u001b[0;34m)\u001b[0m\u001b[0;34m\u001b[0m\u001b[0;34m\u001b[0m\u001b[0m\n\u001b[0m\u001b[1;32m    373\u001b[0m \u001b[0;34m\u001b[0m\u001b[0m\n\u001b[1;32m    374\u001b[0m     def starmap_async(self, func, iterable, chunksize=None, callback=None,\n",
      "\u001b[0;32m~/opt/anaconda3/lib/python3.8/multiprocessing/pool.py\u001b[0m in \u001b[0;36mget\u001b[0;34m(self, timeout)\u001b[0m\n\u001b[1;32m    763\u001b[0m \u001b[0;34m\u001b[0m\u001b[0m\n\u001b[1;32m    764\u001b[0m     \u001b[0;32mdef\u001b[0m \u001b[0mget\u001b[0m\u001b[0;34m(\u001b[0m\u001b[0mself\u001b[0m\u001b[0;34m,\u001b[0m \u001b[0mtimeout\u001b[0m\u001b[0;34m=\u001b[0m\u001b[0;32mNone\u001b[0m\u001b[0;34m)\u001b[0m\u001b[0;34m:\u001b[0m\u001b[0;34m\u001b[0m\u001b[0;34m\u001b[0m\u001b[0m\n\u001b[0;32m--> 765\u001b[0;31m         \u001b[0mself\u001b[0m\u001b[0;34m.\u001b[0m\u001b[0mwait\u001b[0m\u001b[0;34m(\u001b[0m\u001b[0mtimeout\u001b[0m\u001b[0;34m)\u001b[0m\u001b[0;34m\u001b[0m\u001b[0;34m\u001b[0m\u001b[0m\n\u001b[0m\u001b[1;32m    766\u001b[0m         \u001b[0;32mif\u001b[0m \u001b[0;32mnot\u001b[0m \u001b[0mself\u001b[0m\u001b[0;34m.\u001b[0m\u001b[0mready\u001b[0m\u001b[0;34m(\u001b[0m\u001b[0;34m)\u001b[0m\u001b[0;34m:\u001b[0m\u001b[0;34m\u001b[0m\u001b[0;34m\u001b[0m\u001b[0m\n\u001b[1;32m    767\u001b[0m             \u001b[0;32mraise\u001b[0m \u001b[0mTimeoutError\u001b[0m\u001b[0;34m\u001b[0m\u001b[0;34m\u001b[0m\u001b[0m\n",
      "\u001b[0;32m~/opt/anaconda3/lib/python3.8/multiprocessing/pool.py\u001b[0m in \u001b[0;36mwait\u001b[0;34m(self, timeout)\u001b[0m\n\u001b[1;32m    760\u001b[0m \u001b[0;34m\u001b[0m\u001b[0m\n\u001b[1;32m    761\u001b[0m     \u001b[0;32mdef\u001b[0m \u001b[0mwait\u001b[0m\u001b[0;34m(\u001b[0m\u001b[0mself\u001b[0m\u001b[0;34m,\u001b[0m \u001b[0mtimeout\u001b[0m\u001b[0;34m=\u001b[0m\u001b[0;32mNone\u001b[0m\u001b[0;34m)\u001b[0m\u001b[0;34m:\u001b[0m\u001b[0;34m\u001b[0m\u001b[0;34m\u001b[0m\u001b[0m\n\u001b[0;32m--> 762\u001b[0;31m         \u001b[0mself\u001b[0m\u001b[0;34m.\u001b[0m\u001b[0m_event\u001b[0m\u001b[0;34m.\u001b[0m\u001b[0mwait\u001b[0m\u001b[0;34m(\u001b[0m\u001b[0mtimeout\u001b[0m\u001b[0;34m)\u001b[0m\u001b[0;34m\u001b[0m\u001b[0;34m\u001b[0m\u001b[0m\n\u001b[0m\u001b[1;32m    763\u001b[0m \u001b[0;34m\u001b[0m\u001b[0m\n\u001b[1;32m    764\u001b[0m     \u001b[0;32mdef\u001b[0m \u001b[0mget\u001b[0m\u001b[0;34m(\u001b[0m\u001b[0mself\u001b[0m\u001b[0;34m,\u001b[0m \u001b[0mtimeout\u001b[0m\u001b[0;34m=\u001b[0m\u001b[0;32mNone\u001b[0m\u001b[0;34m)\u001b[0m\u001b[0;34m:\u001b[0m\u001b[0;34m\u001b[0m\u001b[0;34m\u001b[0m\u001b[0m\n",
      "\u001b[0;32m~/opt/anaconda3/lib/python3.8/threading.py\u001b[0m in \u001b[0;36mwait\u001b[0;34m(self, timeout)\u001b[0m\n\u001b[1;32m    556\u001b[0m             \u001b[0msignaled\u001b[0m \u001b[0;34m=\u001b[0m \u001b[0mself\u001b[0m\u001b[0;34m.\u001b[0m\u001b[0m_flag\u001b[0m\u001b[0;34m\u001b[0m\u001b[0;34m\u001b[0m\u001b[0m\n\u001b[1;32m    557\u001b[0m             \u001b[0;32mif\u001b[0m \u001b[0;32mnot\u001b[0m \u001b[0msignaled\u001b[0m\u001b[0;34m:\u001b[0m\u001b[0;34m\u001b[0m\u001b[0;34m\u001b[0m\u001b[0m\n\u001b[0;32m--> 558\u001b[0;31m                 \u001b[0msignaled\u001b[0m \u001b[0;34m=\u001b[0m \u001b[0mself\u001b[0m\u001b[0;34m.\u001b[0m\u001b[0m_cond\u001b[0m\u001b[0;34m.\u001b[0m\u001b[0mwait\u001b[0m\u001b[0;34m(\u001b[0m\u001b[0mtimeout\u001b[0m\u001b[0;34m)\u001b[0m\u001b[0;34m\u001b[0m\u001b[0;34m\u001b[0m\u001b[0m\n\u001b[0m\u001b[1;32m    559\u001b[0m             \u001b[0;32mreturn\u001b[0m \u001b[0msignaled\u001b[0m\u001b[0;34m\u001b[0m\u001b[0;34m\u001b[0m\u001b[0m\n\u001b[1;32m    560\u001b[0m \u001b[0;34m\u001b[0m\u001b[0m\n",
      "\u001b[0;32m~/opt/anaconda3/lib/python3.8/threading.py\u001b[0m in \u001b[0;36mwait\u001b[0;34m(self, timeout)\u001b[0m\n\u001b[1;32m    300\u001b[0m         \u001b[0;32mtry\u001b[0m\u001b[0;34m:\u001b[0m    \u001b[0;31m# restore state no matter what (e.g., KeyboardInterrupt)\u001b[0m\u001b[0;34m\u001b[0m\u001b[0;34m\u001b[0m\u001b[0m\n\u001b[1;32m    301\u001b[0m             \u001b[0;32mif\u001b[0m \u001b[0mtimeout\u001b[0m \u001b[0;32mis\u001b[0m \u001b[0;32mNone\u001b[0m\u001b[0;34m:\u001b[0m\u001b[0;34m\u001b[0m\u001b[0;34m\u001b[0m\u001b[0m\n\u001b[0;32m--> 302\u001b[0;31m                 \u001b[0mwaiter\u001b[0m\u001b[0;34m.\u001b[0m\u001b[0macquire\u001b[0m\u001b[0;34m(\u001b[0m\u001b[0;34m)\u001b[0m\u001b[0;34m\u001b[0m\u001b[0;34m\u001b[0m\u001b[0m\n\u001b[0m\u001b[1;32m    303\u001b[0m                 \u001b[0mgotit\u001b[0m \u001b[0;34m=\u001b[0m \u001b[0;32mTrue\u001b[0m\u001b[0;34m\u001b[0m\u001b[0;34m\u001b[0m\u001b[0m\n\u001b[1;32m    304\u001b[0m             \u001b[0;32melse\u001b[0m\u001b[0;34m:\u001b[0m\u001b[0;34m\u001b[0m\u001b[0;34m\u001b[0m\u001b[0m\n",
      "\u001b[0;31mKeyboardInterrupt\u001b[0m: "
     ]
    }
   ],
   "source": [
    "t0 = time.time()\n",
    "\n",
    "data = [(Ns, T1, init), (Ns, T2, init)] #two configs.\n",
    "\n",
    "pool = mp.Pool(mp.cpu_count()) #for parallell processing\n",
    "output = pool.starmap(MC, data) #simulating two simulations using multiprocessing\n",
    "\n",
    "t1 = time.time()\n",
    "print(f\"runtime = {round(t1-t0)} seconds\")"
   ]
  },
  {
   "cell_type": "code",
   "execution_count": null,
   "metadata": {
    "cell_id": "f99d7b00-dd06-43b3-970f-400da41394d1",
    "colab": {
     "base_uri": "https://localhost:8080/",
     "height": 259
    },
    "deepnote_cell_type": "code",
    "deepnote_output_heights": [
     244
    ],
    "deepnote_to_be_reexecuted": true,
    "execution_millis": 176882460,
    "execution_start": 1643985204538,
    "id": "1vjUia0OOrfu",
    "outputId": "1c711086-c81c-4f58-d64a-2170967caa97",
    "source_hash": "8e9af834",
    "tags": []
   },
   "outputs": [],
   "source": [
    "fig, axs = plt.subplots(1, 2)\n",
    "\n",
    "objects = (\"if\", \"elif\", \"else\")\n",
    "y_pos = np.arange(len(objects))\n",
    "\n",
    "axs[0].set_title(f\"T = {T1}\")\n",
    "axs[1].set_title(f\"T = {T2}\")\n",
    "axs[0].bar(y_pos, output[0][2], align='center', alpha=0.5)\n",
    "axs[1].bar(y_pos, output[1][2], align='center', alpha=0.5)\n",
    "plt.xticks(y_pos, objects)\n",
    "fig.tight_layout(pad=3.0)"
   ]
  },
  {
   "cell_type": "code",
   "execution_count": null,
   "metadata": {
    "cell_id": "770fd7ea-1c29-402e-a529-2501d042101f",
    "colab": {
     "base_uri": "https://localhost:8080/",
     "height": 691
    },
    "deepnote_cell_type": "code",
    "deepnote_output_heights": [
     611
    ],
    "deepnote_to_be_reexecuted": true,
    "execution_millis": 176946122,
    "execution_start": 1643985217405,
    "id": "lNTPpUWkOrfv",
    "outputId": "e9767398-10a2-42a9-cc51-404a15180519",
    "source_hash": "e27d9083",
    "tags": []
   },
   "outputs": [],
   "source": [
    "fig, axs = plt.subplots(3, 2, figsize = (10, 10))\n",
    "axs[0][0].pcolormesh(init, vmin = -1, vmax = 1)\n",
    "axs[0][0].set_title(f\"Initial system. T = {T1}K\")\n",
    "axs[0][1].pcolormesh(init, vmin = -1, vmax = 1)\n",
    "axs[0][1].set_title(f\"Initial system. T = {T2}K\")\n",
    "axs[1][0].pcolormesh(output[0][0], vmin = -1, vmax = 1)\n",
    "axs[1][0].set_title(f\"T = {T1}K. System after {Ns} iterations\")\n",
    "axs[1][1].pcolormesh(output[1][0], vmin = -1, vmax = 1)\n",
    "axs[1][1].set_title(f\"T = {T2}K. System after {Ns} iterations\")\n",
    "axs[2][0].plot(np.arange(0, len(output[0][1]), 1), output[0][1])\n",
    "axs[2][0].set_title(f\"Energy development during iterations. T = {T1}\")\n",
    "axs[2][1].plot(np.arange(0, len(output[1][1]), 1), output[1][1])\n",
    "axs[2][1].set_title(f\"Energy development during iterations. T = {T2}\")\n",
    "fig.tight_layout(pad=3.0)"
   ]
  },
  {
   "cell_type": "markdown",
   "metadata": {
    "cell_id": "1f5af4f4-28e7-4d13-9075-0afa12d1bd79",
    "deepnote_cell_type": "markdown",
    "id": "Ro11tYZkOrfv",
    "tags": []
   },
   "source": [
    "##### 1g)\n",
    "Write a function that takes a grid as input, and returns the corresponding cluster\n",
    "grid. Hint: Using recursion in combination with the function you wrote in 1c) may be a\n",
    "good idea here. Use the data you saved in 1f ) to visualize the grid and the corresponding\n",
    "cluster grid side-by-side (i.e. a similar figure to Figure 4)."
   ]
  },
  {
   "cell_type": "code",
   "execution_count": null,
   "metadata": {
    "cell_id": "87026390-991b-456b-894b-f62b644b6f6c",
    "colab": {
     "base_uri": "https://localhost:8080/",
     "height": 573
    },
    "deepnote_cell_type": "code",
    "deepnote_output_heights": [
     null,
     280
    ],
    "deepnote_to_be_reexecuted": false,
    "execution_millis": 14,
    "execution_start": 1644161839840,
    "id": "8bJ8r_7qOrfw",
    "outputId": "e0087eb8-3d7d-4c1f-f86c-a6ee0b655434",
    "source_hash": "f936467e",
    "tags": []
   },
   "outputs": [
    {
     "data": {
      "image/png": "[encoded data removed]",
      "text/plain": [
       "<Figure size 432x288 with 1 Axes>"
      ]
     },
     "metadata": {
      "needs_background": "light"
     },
     "output_type": "display_data"
    },
    {
     "data": {
      "image/png": "[encoded data removed]",
      "text/plain": [
       "<Figure size 432x288 with 1 Axes>"
      ]
     },
     "metadata": {
      "needs_background": "light"
     },
     "output_type": "display_data"
    }
   ],
   "source": [
    "from pprint import pprint\n",
    "\n",
    "class Monomer:\n",
    "    def __init__(self, position):\n",
    "        self.position = position\n",
    "        self.checked = False\n",
    "        self.neighbours = []\n",
    "        self.number = 0\n",
    "    \n",
    "    def set_neighbour(self, neighbour):\n",
    "        if neighbour.position not in [n.position for n in self.neighbours]:\n",
    "            self.neighbours.append(neighbour)\n",
    "    \n",
    "    def give_number(self, number):\n",
    "        if not self.checked:\n",
    "            self.checked = True\n",
    "            self.number = number\n",
    "            for neighbour in self.neighbours:\n",
    "                neighbour.give_number(number)\n",
    "    \n",
    "    def __str__(self):\n",
    "        return f\"{self.position}, number={self.number},\"\n",
    "\n",
    "    def __repr__(self):\n",
    "        return self.__str__()\n",
    "\n",
    "def occupied_neighbours(grid, monomer: \"Monomer\", all_monomers: \"list[Monomer]\"):\n",
    "    acutal_neighbours = []\n",
    "    all_neighbours = list(tuple(coordinate) for coordinate in neighbours(grid.shape[0], *monomer.position))\n",
    "    for potential_monomer in all_monomers:\n",
    "        if potential_monomer.position in all_neighbours:\n",
    "            acutal_neighbours.append(potential_monomer)\n",
    "\n",
    "    return acutal_neighbours\n",
    "\n",
    "def cluster_grid(grid):\n",
    "    monomers =  np.transpose(np.nonzero(grid))\n",
    "    monomers = [Monomer(tuple(monomer)) for monomer in monomers]\n",
    "    new_grid = grid.copy()\n",
    "    number = 1\n",
    "    for monomer in monomers:\n",
    "        neighbours = occupied_neighbours(grid, monomer, monomers)\n",
    "        for neighbour in neighbours:\n",
    "            monomer.set_neighbour(neighbour)\n",
    "    for monomer in monomers:\n",
    "        monomer.give_number(number)\n",
    "        number += 1\n",
    "        \n",
    "    for monomer in monomers:\n",
    "        new_grid[monomer.position[0], monomer.position[1]] = monomer.number\n",
    "     \n",
    "    \n",
    "    \n",
    "    return new_grid\n",
    "\n",
    "def plot_cluster(grid): #Function for plotting a mesh whith color gradient\n",
    "    plt.pcolormesh(grid) \n",
    "    N = grid.shape[0]\n",
    "    M = np.count_nonzero(grid)\n",
    "    plt.xlabel(f\"N\")\n",
    "    plt.ylabel(f\"N\")\n",
    "    plt.title(f\"Polymers, total {M} monomers\")\n",
    "    plt.show()\n",
    "\n",
    "\n",
    "clustered = cluster_grid(output[0][0])\n",
    "plot_grid(output[0][0])\n",
    "#print(clustered) #Shows the numbervalue representing each polymer\n",
    "plot_cluster(clustered) "
   ]
  },
  {
   "cell_type": "code",
   "execution_count": null,
   "metadata": {
    "cell_id": "d7f3dbc2-218b-4461-9df6-c32af362d89f",
    "colab": {
     "base_uri": "https://localhost:8080/"
    },
    "deepnote_cell_type": "code",
    "deepnote_to_be_reexecuted": false,
    "execution_millis": 278,
    "execution_start": 1644160568327,
    "id": "I3sDDHtQOrfw",
    "outputId": "6b54e6e6-d686-4b3f-c127-03403706f101",
    "source_hash": "32d7ab1e",
    "tags": []
   },
   "outputs": [
    {
     "name": "stdout",
     "output_type": "stream",
     "text": [
      "(array([0., 5., 4., 2., 1., 1.]), 13.0, 2.6)\n",
      "[ 100.  200.  300.  400.  500.  600.  700.  800.  900. 1000.]\n",
      "[110000.          70653.06597126  46787.94411714  32313.01601484\n",
      "  23533.52832366  18208.49986239  14978.70683679  13019.73834223\n",
      "  11831.56388887  11110.89965382]\n",
      "starting simulation [ T = 300 K, Ns = 150000 , M = 25.0 , N = 15 ]\n",
      "initial energy:  0.20881992918335263 eV\n"
     ]
    },
    {
     "name": "stderr",
     "output_type": "stream",
     "text": [
      " 18%|█▊        | 26379/150000 [00:30<02:22, 866.94it/s]"
     ]
    }
   ],
   "source": [
    "from matplotlib.colors import to_rgb\n",
    "\n",
    "\n",
    "a = [[1,1,0,2],[0,1,2,3],[1,0,5,2],[1,2,3,4]]\n",
    "N = 15 # dimention\n",
    "M = 25 #monomers\n",
    "n = 40 #amount of polymers\n",
    "\n",
    "def meanClusterSize(clusterGrid):\n",
    "    clusterList = []\n",
    "    clusterList = np.concatenate(clusterGrid)\n",
    "    polSizes = np.zeros(np.nanmax(clusterList) + 1)\n",
    "    nr = 1\n",
    "    for j in range(len(polSizes)):\n",
    "        for i in range(len(clusterList)):\n",
    "            if(clusterList[i] == nr):\n",
    "                polSizes[nr] += 1\n",
    "            else: continue\n",
    "        nr +=1\n",
    "    tot = 0\n",
    "    for i in range(len(polSizes)):\n",
    "        tot += polSizes[i]\n",
    "    d = tot/(len(polSizes)-1)\n",
    "    return polSizes, tot, d #Returnerer array med de ulike polymerene gitt ved deres lengder, totalt antall monomere og gjennomsnittlig lengde på polymer; d.\n",
    "\n",
    "\n",
    "print(meanClusterSize(a))\n",
    "    \n",
    "T_l = 100\n",
    "T_h = 1000\n",
    "TT = np.linspace(T_l, T_h, 10)\n",
    "t_max = 100000\n",
    "s = 1/200\n",
    "C = 10000\n",
    "t_r = 1000\n",
    "\n",
    "\n",
    "def t_equil(T):\n",
    "    tx = t_max * np.exp(-s * (T - T_l)) + C\n",
    "    return tx\n",
    "print(TT)\n",
    "print(t_equil(TT))\n",
    "\n",
    "\n",
    "\n",
    "n_samples = 10\n",
    "Ns = t_equil(T) + n * t_r\n",
    "\n",
    "def MC_equil(Ns, T, init_grid):\n",
    "    \"\"\"\n",
    "    Monte carlo.\n",
    "\n",
    "    Simulerer systemet ved bruk av tilfeldige valg. \n",
    "    Et tilfeldig monomer blir valgt og beveger seg i en tilfeldig retning. Dette blir enten tolket som \n",
    "    en termisk vibrasjon eller en bevegelse mot en lavere system energi.\n",
    "    \"\"\"\n",
    "    t = time.time() #tid\n",
    "\n",
    "    k_b = 1.38e-23\n",
    "    beta = 1 / (k_b * T)\n",
    "    eV = 1.602176634e-19\n",
    "    \n",
    "    count = [0, 0, 0] #teller hvor MC havner, i \"if\", \"elif\" eller \"else\"\n",
    "    \n",
    "    N = init_grid.shape[0] #størrelsen på grid\n",
    "    M = np.count_nonzero(init_grid) / 2 #antall positive/negative ladninger\n",
    "    t_e = t_equil(T) + n_samples * t_r\n",
    "\n",
    "    print(\"starting simulation [ T =\",T,\"K, Ns =\",Ns,\", M =\",M,\", N =\",N, \"]\")\n",
    "\n",
    "    grid = init_grid\n",
    "\n",
    "    monomers = np.transpose(np.nonzero(grid)) #gir indexer til ikke-negative ruter i grid. Aka, monomer \n",
    "    \n",
    "    energies = [total_energy(grid)] #liste som holder på utviklingen av energi\n",
    "    print(\"initial energy: \", energies[-1] / eV, \"eV\")\n",
    "    n = 0\n",
    "\n",
    "    samples = []\n",
    "\n",
    "    for it in tqdm(range(Ns)):\n",
    "\n",
    "        prev_grid = grid.copy()\n",
    "        prev_monomers = monomers.copy()\n",
    "\n",
    "        #gjør tilfeldige valg:\n",
    "        rand_monomer_index = round(np.random.uniform(0, len(monomers)-1)) #velger en random monomer index\n",
    "        prev_monomer = monomers[rand_monomer_index] #tilfeldig monomer index til grid.\n",
    "        \n",
    "        rand_neighbour_index = round(np.random.uniform(0, 3)) #velger en av 4 naboer\n",
    "        new_monomer = neighbours(N, prev_monomer[0], prev_monomer[1])[rand_neighbour_index] #flyttet til naboposisjon.\n",
    "        \n",
    "        illegalMove = (grid[new_monomer[0], new_monomer[1]] != 0) #monomene kan kun bevege seg til et tomt område\n",
    "        \n",
    "        if illegalMove:\n",
    "            continue #prøver på nytt. \n",
    "            #continue gjør at vi begynner på ny i loopen, og det som kommer etterpå blir da ikke gjort.\n",
    "        \n",
    "        #oppdaterer grid og monomer listen\n",
    "        prev_index = (prev_monomer[0], prev_monomer[1])\n",
    "        new_index = (new_monomer[0], new_monomer[1])\n",
    "\n",
    "        charge = grid[prev_index] \n",
    "        grid[prev_index] = 0\n",
    "        grid[new_index] = charge\n",
    "        monomers[rand_monomer_index] = new_monomer\n",
    "\n",
    "        new_energy = total_energy(grid) #energien til systemet etter grid er oppdatert\n",
    "        \n",
    "        \n",
    "        if new_energy <= energies[-1]: \n",
    "            energies.append(new_energy)\n",
    "            count[0] += 1\n",
    "            #endringen er akseptert\n",
    "\n",
    "        elif random.uniform(0, 1) < np.exp(-beta * (new_energy - energies[-1])): #termisk bevegelse, elns. np.exp(-beta * (new_energy - energies[-1]))\n",
    "            energies.append(new_energy)\n",
    "            count[1] += 1\n",
    "            #endringen er akseptert som resultat av termisk vibrasjon\n",
    "\n",
    "        else:\n",
    "            #endringen er ikke akseptert. Grid og monomer blir tilbakesatt til slik de var og energien er uforandret.\n",
    "            grid = prev_grid \n",
    "            monomers = prev_monomers\n",
    "            energies.append(energies[-1]) #energien til systemet  er ikke endret\n",
    "            count[2] += 1\n",
    "        \n",
    "        if(it >= t_e and it%1000 == 0):\n",
    "            samples.append(grid)\n",
    "        else: continue\n",
    "    \n",
    "        #n += 1\n",
    "        #if(it/Ns % 0.1 == 0):\n",
    "        #    # \"gjetter\" hvor mye tid som er igjen\n",
    "        #    print(it/Ns * 100, \"% ~\", round(((time.time()-t) / n) * (Ns - it)), \"seconds remaining.\", \"system energy: \", energies[-1] / eV, \"eV\")\n",
    "        #    t = time.time()\n",
    "        #    n = 0\n",
    "   # print(\"100% ~ 0 seconds remaining. system energy: \", energies[-1])\n",
    "    \n",
    "    \n",
    "    return grid, [e / eV for e in energies], count, \n",
    "\n",
    "init = setup_monomers(N, M)[0]\n",
    "\n",
    "test = MC_equil(int(Ns[0]), 300, init)[3] \n",
    "print(test)\n",
    "    #input_data = [(N, T, setup_monomers(N, M)) for T in TT]"
   ]
  },
  {
   "cell_type": "markdown",
   "metadata": {
    "cell_id": "76a83fad-953a-4f61-82bd-33275d054e66",
    "deepnote_cell_type": "markdown",
    "id": "21vPs1vyOrfx",
    "tags": []
   },
   "source": [
    "##### 1h)\n",
    "Plot ⟨d⟩ as a function of T . Why is ⟨d⟩ larger at small T ? Discuss if your choice\n",
    "of n will yield reliable results. Are any of your results surprising? In order to observe\n",
    "how the initial conditions of the grid affects the clustering size, redo the simulation,\n",
    "and compare the results of the two simulations. Why is the discrepancy between the\n",
    "simulations larger at lower temperatures?"
   ]
  },
  {
   "cell_type": "code",
   "execution_count": null,
   "metadata": {
    "colab": {
     "base_uri": "https://localhost:8080/",
     "height": 641
    },
    "id": "YXWipWtFPpi5",
    "outputId": "2c06661b-c596-46ef-99b0-141f712293cf"
   },
   "outputs": [
    {
     "ename": "AttributeError",
     "evalue": "ignored",
     "output_type": "error",
     "traceback": [
      "\u001b[0;31m---------------------------------------------------------------------------\u001b[0m",
      "\u001b[0;31mRemoteTraceback\u001b[0m                           Traceback (most recent call last)",
      "\u001b[0;31mRemoteTraceback\u001b[0m: \n\"\"\"\nTraceback (most recent call last):\n  File \"/usr/lib/python3.7/multiprocessing/pool.py\", line 121, in worker\n    result = (True, func(*args, **kwds))\n  File \"/usr/lib/python3.7/multiprocessing/pool.py\", line 47, in starmapstar\n    return list(itertools.starmap(args[0], args[1]))\n  File \"<ipython-input-44-9bfa2b128a37>\", line 19, in MC\n    N = init_grid.shape[0] #størrelsen på grid\nAttributeError: 'tuple' object has no attribute 'shape'\n\"\"\"",
      "\nThe above exception was the direct cause of the following exception:\n",
      "\u001b[0;31mAttributeError\u001b[0m                            Traceback (most recent call last)",
      "\u001b[0;32m<ipython-input-51-55b87a2c1a1a>\u001b[0m in \u001b[0;36m<module>\u001b[0;34m()\u001b[0m\n\u001b[1;32m      3\u001b[0m \u001b[0;34m\u001b[0m\u001b[0m\n\u001b[1;32m      4\u001b[0m \u001b[0mpool\u001b[0m \u001b[0;34m=\u001b[0m \u001b[0mmp\u001b[0m\u001b[0;34m.\u001b[0m\u001b[0mPool\u001b[0m\u001b[0;34m(\u001b[0m\u001b[0mmp\u001b[0m\u001b[0;34m.\u001b[0m\u001b[0mcpu_count\u001b[0m\u001b[0;34m(\u001b[0m\u001b[0;34m)\u001b[0m\u001b[0;34m)\u001b[0m \u001b[0;31m#for parallell processing\u001b[0m\u001b[0;34m\u001b[0m\u001b[0;34m\u001b[0m\u001b[0m\n\u001b[0;32m----> 5\u001b[0;31m \u001b[0moutput_1h\u001b[0m \u001b[0;34m=\u001b[0m \u001b[0mpool\u001b[0m\u001b[0;34m.\u001b[0m\u001b[0mstarmap\u001b[0m\u001b[0;34m(\u001b[0m\u001b[0mMC\u001b[0m\u001b[0;34m,\u001b[0m \u001b[0minput_data\u001b[0m\u001b[0;34m)\u001b[0m \u001b[0;31m#simulating two simulations using multiprocessing\u001b[0m\u001b[0;34m\u001b[0m\u001b[0;34m\u001b[0m\u001b[0m\n\u001b[0m\u001b[1;32m      6\u001b[0m \u001b[0;34m\u001b[0m\u001b[0m\n\u001b[1;32m      7\u001b[0m \u001b[0mt1\u001b[0m \u001b[0;34m=\u001b[0m \u001b[0mtime\u001b[0m\u001b[0;34m.\u001b[0m\u001b[0mtime\u001b[0m\u001b[0;34m(\u001b[0m\u001b[0;34m)\u001b[0m\u001b[0;34m\u001b[0m\u001b[0;34m\u001b[0m\u001b[0m\n",
      "\u001b[0;32m/usr/lib/python3.7/multiprocessing/pool.py\u001b[0m in \u001b[0;36mstarmap\u001b[0;34m(self, func, iterable, chunksize)\u001b[0m\n\u001b[1;32m    274\u001b[0m         \u001b[0;31m`\u001b[0m\u001b[0mfunc\u001b[0m\u001b[0;31m`\u001b[0m \u001b[0;32mand\u001b[0m \u001b[0;34m(\u001b[0m\u001b[0ma\u001b[0m\u001b[0;34m,\u001b[0m \u001b[0mb\u001b[0m\u001b[0;34m)\u001b[0m \u001b[0mbecomes\u001b[0m \u001b[0mfunc\u001b[0m\u001b[0;34m(\u001b[0m\u001b[0ma\u001b[0m\u001b[0;34m,\u001b[0m \u001b[0mb\u001b[0m\u001b[0;34m)\u001b[0m\u001b[0;34m.\u001b[0m\u001b[0;34m\u001b[0m\u001b[0;34m\u001b[0m\u001b[0m\n\u001b[1;32m    275\u001b[0m         '''\n\u001b[0;32m--> 276\u001b[0;31m         \u001b[0;32mreturn\u001b[0m \u001b[0mself\u001b[0m\u001b[0;34m.\u001b[0m\u001b[0m_map_async\u001b[0m\u001b[0;34m(\u001b[0m\u001b[0mfunc\u001b[0m\u001b[0;34m,\u001b[0m \u001b[0miterable\u001b[0m\u001b[0;34m,\u001b[0m \u001b[0mstarmapstar\u001b[0m\u001b[0;34m,\u001b[0m \u001b[0mchunksize\u001b[0m\u001b[0;34m)\u001b[0m\u001b[0;34m.\u001b[0m\u001b[0mget\u001b[0m\u001b[0;34m(\u001b[0m\u001b[0;34m)\u001b[0m\u001b[0;34m\u001b[0m\u001b[0;34m\u001b[0m\u001b[0m\n\u001b[0m\u001b[1;32m    277\u001b[0m \u001b[0;34m\u001b[0m\u001b[0m\n\u001b[1;32m    278\u001b[0m     def starmap_async(self, func, iterable, chunksize=None, callback=None,\n",
      "\u001b[0;32m/usr/lib/python3.7/multiprocessing/pool.py\u001b[0m in \u001b[0;36mget\u001b[0;34m(self, timeout)\u001b[0m\n\u001b[1;32m    655\u001b[0m             \u001b[0;32mreturn\u001b[0m \u001b[0mself\u001b[0m\u001b[0;34m.\u001b[0m\u001b[0m_value\u001b[0m\u001b[0;34m\u001b[0m\u001b[0;34m\u001b[0m\u001b[0m\n\u001b[1;32m    656\u001b[0m         \u001b[0;32melse\u001b[0m\u001b[0;34m:\u001b[0m\u001b[0;34m\u001b[0m\u001b[0;34m\u001b[0m\u001b[0m\n\u001b[0;32m--> 657\u001b[0;31m             \u001b[0;32mraise\u001b[0m \u001b[0mself\u001b[0m\u001b[0;34m.\u001b[0m\u001b[0m_value\u001b[0m\u001b[0;34m\u001b[0m\u001b[0;34m\u001b[0m\u001b[0m\n\u001b[0m\u001b[1;32m    658\u001b[0m \u001b[0;34m\u001b[0m\u001b[0m\n\u001b[1;32m    659\u001b[0m     \u001b[0;32mdef\u001b[0m \u001b[0m_set\u001b[0m\u001b[0;34m(\u001b[0m\u001b[0mself\u001b[0m\u001b[0;34m,\u001b[0m \u001b[0mi\u001b[0m\u001b[0;34m,\u001b[0m \u001b[0mobj\u001b[0m\u001b[0;34m)\u001b[0m\u001b[0;34m:\u001b[0m\u001b[0;34m\u001b[0m\u001b[0;34m\u001b[0m\u001b[0m\n",
      "\u001b[0;31mAttributeError\u001b[0m: 'tuple' object has no attribute 'shape'"
     ]
    }
   ],
   "source": [
    "\n",
    "t0 = time.time()\n",
    "\n",
    "pool = mp.Pool(mp.cpu_count()) #for parallell processing\n",
    "output_1h = pool.starmap(MC, input_data) #simulating two simulations using multiprocessing\n",
    "\n",
    "t1 = time.time()\n",
    "print(f\"runtime = {round(t1-t0)} seconds\")"
   ]
  },
  {
   "cell_type": "markdown",
   "metadata": {
    "cell_id": "95a9bfa0-fa15-4f8c-84df-86a13eeea111",
    "deepnote_cell_type": "markdown",
    "id": "If_yPRSQOrfx",
    "tags": []
   },
   "source": [
    "### Oppgave 2"
   ]
  },
  {
   "cell_type": "markdown",
   "metadata": {
    "cell_id": "93591ae7-e5ca-4364-8f72-360d5f940d8e",
    "deepnote_cell_type": "markdown",
    "id": "neJzF816Orfx",
    "tags": []
   },
   "source": [
    "##### 2a)\n",
    "Write a similar function as you did in 1a), but now you should also take the\n",
    "multivalency L as input. This is an extension of Algorithm 1 where you place M posi-\n",
    "tively and M negatively charged polymers. The function should return a grid with 2M\n",
    "polymers, each with multivalency L. Include a figure of a system with L > 20"
   ]
  },
  {
   "cell_type": "code",
   "execution_count": null,
   "metadata": {
    "id": "1VuNrTX7RPS9"
   },
   "outputs": [],
   "source": [
    "def setup_polymers(N, M, L):\n",
    "    grid = np.zeros((N, N))\n",
    "\n",
    "    indexes = np.arange(0, N*N, 1).tolist() #må være liste for at sample skal fungere\n",
    "    samples = random.sample(indexes, 2*M) #sample() sørger for at det ikke blir skapt duplikater.\n",
    "    charges = np.concatenate(([-1 for _ in range(M)], [1 for _ in range(M)]))\n",
    "    random.shuffle(charges) #shuffler ladningene\n",
    "\n",
    "    for i, charge in enumerate(charges):\n",
    "        index = (samples[i] // N, samples[i] % N) #random 2D index\n",
    "\n",
    "        posArr = [] #monomer position array\n",
    "        posArr.append([index[0], index[1]])\n",
    "        \n",
    "        for j in range(1, L):\n",
    "            randomIndex = round(np.random.uniform(0, len(posArr)-1))\n",
    "            \n",
    "            randMonomer = posArr[randomIndex]\n",
    "            neighbouring_indexes = neighbours(N, randMonomer[0], randMonomer[1])\n",
    "            neighbouring_charges = [grid[int(n[0]), int(n[1])] for n in neighbouring_indexes]\n",
    "            nonzero_neighbours = [neighbouring_indexes[i[0]] for i in np.transpose(np.nonzero(neighbouring_charges))]\n",
    "\n",
    "            for k, element in enumerate(nonzero_neighbours):\n",
    "                if element == []:\n",
    "                    nonzero_neighbours.pop(k)\n",
    "\n",
    "\n",
    "            if len(nonzero_neighbours) == len(neighbouring_indexes):\n",
    "                continue #all neighbours are monomers and ocupied.\n",
    "          \n",
    "            random_neighbour = neighbouring_indexes[round(np.random.uniform(0, len(neighbouring_indexes)-1))]\n",
    "            \n",
    "            if random_neighbour in nonzero_neighbours:\n",
    "                continue\n",
    "            \n",
    "            grid[int(random_neighbour[0]), int(random_neighbour[1])] = charge\n",
    "            posArr.append(random_neighbour)\n",
    "\n",
    "            j+=1\n",
    "        \n",
    "    return grid"
   ]
  },
  {
   "cell_type": "code",
   "execution_count": null,
   "metadata": {
    "colab": {
     "base_uri": "https://localhost:8080/",
     "height": 295
    },
    "id": "dJdNBZ-nWGeC",
    "outputId": "56470ea3-3465-45a5-dedc-97735a7da688"
   },
   "outputs": [
    {
     "data": {
      "image/png": "[encoded data removed]",
      "text/plain": [
       "<Figure size 432x288 with 1 Axes>"
      ]
     },
     "metadata": {
      "needs_background": "light"
     },
     "output_type": "display_data"
    }
   ],
   "source": [
    "poly_grid = setup_polymers(16, 2, 20)\n",
    "plot_grid(poly_grid)"
   ]
  },
  {
   "cell_type": "markdown",
   "metadata": {
    "cell_id": "7770bb36-5245-4a82-84e1-bb1050713630",
    "deepnote_cell_type": "markdown",
    "id": "HO89KIorOrfx",
    "tags": []
   },
   "source": [
    "##### 2b)\n",
    "Extend the energy function you wrote in exercise 1d), so it can calculate the\n",
    "energy of polymer-systems. As mentioned in the introduction, covalent bonds bind\n",
    "monomers within the same polymer, thus, for simplicity, you may put interactions be-\n",
    "tween monomers belonging to the same polymer to zero."
   ]
  },
  {
   "cell_type": "code",
   "execution_count": 10,
   "metadata": {
    "id": "PRcZkW5V0fqw"
   },
   "outputs": [
    {
     "ename": "NameError",
     "evalue": "name 'poly_grid' is not defined",
     "output_type": "error",
     "traceback": [
      "\u001b[0;31m---------------------------------------------------------------------------\u001b[0m",
      "\u001b[0;31mNameError\u001b[0m                                 Traceback (most recent call last)",
      "\u001b[0;32m<ipython-input-10-e88f2be0b451>\u001b[0m in \u001b[0;36m<module>\u001b[0;34m\u001b[0m\n\u001b[1;32m     56\u001b[0m \u001b[0;34m\u001b[0m\u001b[0m\n\u001b[1;32m     57\u001b[0m \u001b[0;34m\u001b[0m\u001b[0m\n\u001b[0;32m---> 58\u001b[0;31m \u001b[0mprint\u001b[0m\u001b[0;34m(\u001b[0m\u001b[0mtotal_energy_plymer\u001b[0m\u001b[0;34m(\u001b[0m\u001b[0mpoly_grid\u001b[0m\u001b[0;34m,\u001b[0m \u001b[0mpolymers\u001b[0m\u001b[0;34m)\u001b[0m\u001b[0;34m)\u001b[0m\u001b[0;34m\u001b[0m\u001b[0;34m\u001b[0m\u001b[0m\n\u001b[0m",
      "\u001b[0;31mNameError\u001b[0m: name 'poly_grid' is not defined"
     ]
    }
   ],
   "source": [
    "class Polymer: \n",
    "    def __init__(self, monomers): #Tar inn en liste med monomerer som utgjør polynomet\n",
    "        self.monomers = [Monomer(tuple(monomer)) for monomer in monomers] #Liste med alle inngående monomerer\n",
    "        self.charge = 0\n",
    "        self.checked = False \n",
    "        self.size = len(monomers)\n",
    "        self.neighbours = [] #liste med alle monomerer som er nabo med polymeret\n",
    "    \n",
    "    def outside_neigbours(self):\n",
    "        for monomer in self.monomers:\n",
    "            for neighbour in monomer.neighbours:\n",
    "                if neighbour not in self.monomers:\n",
    "                    self.neighbours.append(neighbour)\n",
    "        return self.neighbours\n",
    "\n",
    "    def set_charge(self, charge):\n",
    "        self.charge = charge\n",
    "  \n",
    "    def update_polymer_number(self, grid):\n",
    "        for monomer in self.monomers: \n",
    "            grid[monomer[0]][monomer[1]] = self.charge\n",
    "        return grid \n",
    "    \n",
    "    def checked_polymer(self):\n",
    "        self.checked = True\n",
    "\n",
    "#@jit(nopython=True)\n",
    "def total_energy_plymer(grid, polymers):\n",
    "    e = 1.6e-19 #elementær ladning\n",
    "    e_r = 78 #relative permitivity\n",
    "    e_0 = 8.854188e-12 #elektrisk permitivitet\n",
    "    a = 23e-6 #avstand mellom monomene\n",
    "    \n",
    "    alpha = e**2 / (4 * np.pi * e_0 * e_r * a**2)\n",
    "    \n",
    "    E = 0 #init\n",
    "    \n",
    "    N = grid.shape[0]\n",
    "    \n",
    "    #Making sure every monomer is marked as not checked \n",
    "    for polymer in polymers:\n",
    "      for monomer in polymer.monomers:\n",
    "        monomer.checked = False\n",
    "\n",
    "    for polymer in polymers:\n",
    "        polymer.charge = grid[polymer.monomers[0].position[0]][polymer.monomers[0].position[1]]\n",
    "        for monomer in polymer.monomers: #Marks every monomer in the polymer as checked. These monomers will not contribute more to the energy\n",
    "          monomer.checked = True\n",
    "\n",
    "        for neighbour in polymer.neighbours:\n",
    "            #Sjekker at vi ikke har gjort rede for naboparet: \n",
    "            if not neighbour.checked:\n",
    "              E += alpha * np.sign(polymer.charge * grid[neighbour[0], neighbour[1]])\n",
    "                \n",
    "    return E\n",
    "\n",
    "\n",
    "print(total_energy_plymer(poly_grid, polymers))"
   ]
  },
  {
   "cell_type": "markdown",
   "metadata": {
    "cell_id": "2c32ac1c-1997-4a0a-9f7f-c97b688ffd60",
    "deepnote_cell_type": "markdown",
    "id": "tz2T5IUKOrfy",
    "tags": []
   },
   "source": [
    "##### 2c)\n",
    "Implement a function that rigidly moves an input-specified polymer in an input-\n",
    "specified direction. In order to specify direction, one possible choice is to specify the\n",
    "direction by integers: [Right, Left, Up, Down] ⇐⇒ [0, 1, 2, 3]."
   ]
  },
  {
   "cell_type": "code",
   "execution_count": null,
   "metadata": {},
   "outputs": [],
   "source": [
    "def move_polymer(grid, polymer, direction): #Direction = 0,1,2,3 = right, left, up, down\n",
    "    N = grid.shape[0]\n",
    "    new_grid = grid.copy()\n",
    "\n",
    "    #removing the old polymer from new_grid\n",
    "    for monomer in polymer.monomers: \n",
    "        new_grid[monomer.position[0]][monomer.position[1]] = 0\n",
    "\n",
    "    if direction == 0:   #Right\n",
    "        for monomer in polymer.monomers:\n",
    "            if [monomer.position[0],(monomer.position[1]-1)%N] in polymer.neighbours: #cheking if any of the new moves cross a neighbour \n",
    "                return grid                             #If move is not valid, return grid without any change\n",
    "        for monomer in polymer.monomers:\n",
    "            old_pos = monomer.position\n",
    "            new_pos = [old_pos[0],(old_pos[1]-1)%N]\n",
    "            monomer.position = new_pos #giving monomer new pos\n",
    "            #updating grid: \n",
    "            new_grid[new_pos[0]][new_pos[1]] = polymer.charge\n",
    "\n",
    "    if direction == 1:   #Left\n",
    "        for monomer in polymer.monomers:\n",
    "            if [monomer.position[0],(monomer.position[1]+1)%N] in polymer.neighbours: #cheking if any of the new moves cross a neighbour \n",
    "                return grid                             #If move is not valid, return grid without any change\n",
    "        for monomer in polymer.monomers:\n",
    "            old_pos = monomer.position\n",
    "            new_pos = [old_pos[0],(old_pos[1]+1)%N]\n",
    "            monomer.position = new_pos #giving monomer new pos\n",
    "            #updating grid: \n",
    "            new_grid[new_pos[0]][new_pos[1]] = polymer.charge\n",
    "\n",
    "    if direction == 2:   #Up\n",
    "        for monomer in polymer.monomers:\n",
    "            if [(monomer.position[0]+1)%N,monomer.position[1]] in polymer.neighbours: #cheking if any of the new moves cross a neighbour \n",
    "                return grid                             #If move is not valid, return grid without any change\n",
    "        for monomer in polymer.monomers:\n",
    "            old_pos = monomer.position\n",
    "            new_pos = [(old_pos[0]+1)%N,old_pos[1]]\n",
    "            monomer.position = new_pos #giving monomer new pos\n",
    "            #updating grid: \n",
    "            new_grid[new_pos[0]][new_pos[1]] = polymer.charge\n",
    "\n",
    "    if direction == 3:   #down\n",
    "        for monomer in polymer.monomers:\n",
    "            if [(monomer.position[0]-1)%N,monomer.position[1]] in polymer.neighbours: #cheking if any of the new moves cross a neighbour \n",
    "                return grid                             #If move is not valid, return grid without any change\n",
    "        for monomer in polymer.monomers:\n",
    "            old_pos = monomer.position\n",
    "            new_pos = [(old_pos[0]-1)%N,old_pos[1]]\n",
    "            monomer.position = new_pos #giving monomer new pos\n",
    "            #updating grid: \n",
    "            new_grid[new_pos[0]][new_pos[1]] = polymer.charge\n",
    "\n",
    "\n",
    "\n",
    "\n",
    "    return new_grid"
   ]
  },
  {
   "cell_type": "markdown",
   "metadata": {
    "cell_id": "12d83245-b720-4b1e-b267-529cbcf52146",
    "deepnote_cell_type": "markdown",
    "id": "imwasxm7Orfy",
    "tags": []
   },
   "source": [
    "##### 2d)\n",
    "Implement Algorithm 2 and use it to run a Monte Carlo simulation of a system\n",
    "with L > 10, 2 < M < 6, T = 200 K. Choose N freely, and use the rigid move from\n",
    "2c) to move the polymers. Include a figure of the grid after 30000 MC steps. Comment\n",
    "on why the system looks the way it does. Explain, using both quantitative results from\n",
    "your simulation and from an “algorithmic” point of view, how and why the run time\n",
    "requirements have changed in comparison with the monomer-systems you studied in\n",
    "exercise 1). Tip: It might be convenient to have the function that moves the polymers\n",
    "as an optional argument to the Monte Carlo function. In this way, you can reuse your\n",
    "MC function when you introduce new move functions."
   ]
  },
  {
   "cell_type": "markdown",
   "metadata": {
    "cell_id": "2e754c2e-73c6-40cd-aea7-73724d66eab6",
    "deepnote_cell_type": "markdown",
    "id": "UFicMqdsOrfy",
    "tags": []
   },
   "source": [
    "##### 2e)\n",
    "Implement the medium flexibility move. Tip: It might be useful to do this exercise\n",
    "in tandem with 2f )."
   ]
  },
  {
   "cell_type": "markdown",
   "metadata": {
    "cell_id": "c06a3171-38e1-4b46-bb90-39a39751c372",
    "deepnote_cell_type": "markdown",
    "id": "LcGLEoJmOrfy",
    "tags": []
   },
   "source": [
    "##### 2f)\n",
    "Write a function that checks if a polymer is broken. Hint: This function will be\n",
    "almost identical to the one you wrote in exercise 1g). Improve your implementation of\n",
    "the medium flexibility move, such that it checks if the polymer is broken after the move\n",
    "is completed. If it is broken, the function should instead return the original grid (i.e.\n",
    "the grid where the polymer is not moved)."
   ]
  },
  {
   "cell_type": "markdown",
   "metadata": {
    "cell_id": "4dfc7708-c69f-47e5-a10e-1b3da5d71b94",
    "deepnote_cell_type": "markdown",
    "id": "dMckhgQ8Orfz",
    "tags": []
   },
   "source": [
    "##### 2g)\n",
    "Redo the simulation in exercise 2d) with the same parameters, but using the\n",
    "medium flexible move. Compare the grid produced with flexible polymers to the one\n",
    "you presented in 2d). Plot the energy as a function of MC steps from the two simulations,\n",
    "and comment on your results. How does the energy of the system relate to the physical\n",
    "placement of the polymers?"
   ]
  }
 ],
 "metadata": {
  "colab": {
   "collapsed_sections": [],
   "name": "Project1_VitBer.ipynb",
   "provenance": []
  },
  "deepnote": {
   "is_reactive": false
  },
  "deepnote_execution_queue": [],
  "deepnote_notebook_id": "14c52b52-85e3-4b43-ae2f-35b451aed07d",
  "kernelspec": {
   "display_name": "Python 3",
   "language": "python",
   "name": "python3"
  },
  "language_info": {
   "codemirror_mode": {
    "name": "ipython",
    "version": 3
   },
   "file_extension": ".py",
   "mimetype": "text/x-python",
   "name": "python",
   "nbconvert_exporter": "python",
   "pygments_lexer": "ipython3",
   "version": "3.8.5"
  }
 },
 "nbformat": 4,
 "nbformat_minor": 1
}
