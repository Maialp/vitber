{
 "cells": [
  {
   "cell_type": "markdown",
   "metadata": {
    "cell_id": "f66e56ef-7167-4a9c-8942-3722605ae811",
    "deepnote_cell_type": "markdown",
    "tags": []
   },
   "source": [
    "##### Imports:"
   ]
  },
  {
   "cell_type": "code",
   "execution_count": 70,
   "metadata": {
    "cell_id": "7194fe3d-2f74-4950-ba06-a4c54c65eb53",
    "deepnote_cell_type": "code",
    "deepnote_to_be_reexecuted": true,
    "execution_millis": 1398,
    "execution_start": 1643891704006,
    "source_hash": "e452f19b",
    "tags": []
   },
   "outputs": [],
   "source": [
    "import numpy as np\n",
    "import matplotlib.pyplot as plt\n",
    "import random\n",
    "import math\n",
    "import time\n",
    "#import multiprocessing as mp"
   ]
  },
  {
   "cell_type": "markdown",
   "metadata": {
    "cell_id": "89047615-0476-4d52-afd1-f64f52955fb7",
    "deepnote_cell_type": "markdown",
    "tags": []
   },
   "source": [
    "### Oppgave 1\n",
    "\n",
    "##### 1a)\n",
    "Write a function that takes as input the grid size, N , and the number of monomers\n",
    "we wish to consider M . The function should return a grid with the monomers placed\n",
    "randomly. Monomers can only be placed in the solvent, not on top of other monomers.\n",
    "Check that the grid has 2M non-zero values. M of these values represent positively\n",
    "charged monomers, the other M represent negatively charged monomers."
   ]
  },
  {
   "cell_type": "code",
   "execution_count": 71,
   "metadata": {
    "cell_id": "c8a4944d-db73-4bbd-aba2-5a1144f20b7d",
    "deepnote_cell_type": "code",
    "deepnote_to_be_reexecuted": true,
    "execution_millis": 6,
    "execution_start": 1643891705417,
    "source_hash": "4f301f81",
    "tags": []
   },
   "outputs": [],
   "source": [
    "def setup_grid(N, M):\n",
    "    \"\"\"\n",
    "    Lager et 2d-grid med positive og negative monomers.\n",
    "    N: grid size\n",
    "    M: monomers\n",
    "    \"\"\"\n",
    "    #sampler \"monomers\"\n",
    "    indexes = np.arange(0, N*N, 1).tolist() #må være liste for at sample skal fungere\n",
    "    samples = random.sample(indexes, 2*M) #sample() sørger for at det ikke blir skapt duplikater.\n",
    "    charges = np.concatenate((np.arange(-M, -0), np.arange(1, M+1))) #charges: -20, -19, ..., -1, 1, ..., 19, 20\n",
    "    random.shuffle(charges) #shuffler ladningene\n",
    "    \n",
    "    locations = [] #en liste med indexer til hvor monomer eksisterer i grid.\n",
    "\n",
    "    #lager grid\n",
    "    grid = np.zeros((N, N)) #tomt grid\n",
    "\n",
    "    for j in range(len(samples)): \n",
    "        samp_index = samples[j] #sample index (fra 1d samples)\n",
    "        index = (samp_index // N, samp_index % N) #1D -> 2D index\n",
    "        grid[index] = charges[j] #legger til ladingen\n",
    "        locations.append(index)\n",
    "        \n",
    "    return grid, locations"
   ]
  },
  {
   "cell_type": "code",
   "execution_count": 72,
   "metadata": {
    "cell_id": "170f1500-7f96-4866-9dfb-efa444395687",
    "deepnote_cell_type": "code",
    "deepnote_to_be_reexecuted": true,
    "execution_millis": 13,
    "execution_start": 1643891705427,
    "source_hash": "166e9dd1",
    "tags": []
   },
   "outputs": [
    {
     "name": "stdout",
     "output_type": "stream",
     "text": [
      "grid size:  (11, 11)\n",
      "Number of grid elements:  121\n",
      "Number of zero elements: 101\n",
      "Number of non-zero elements: 20  =  20\n"
     ]
    }
   ],
   "source": [
    "N = 11 #bredden på universet\n",
    "M = 10 #antall positive/negative monomers\n",
    "\n",
    "universe, monomers = setup_grid(N,M) #creating the universe\n",
    "\n",
    "print(\"grid size: \", universe.shape)\n",
    "print(\"Number of grid elements: \", universe.shape[0] * universe.shape[1])\n",
    "print(\"Number of zero elements:\", universe.shape[0] * universe.shape[1] - len(monomers))\n",
    "print(\"Number of non-zero elements:\", len(monomers), \" = \", np.count_nonzero(universe))"
   ]
  },
  {
   "cell_type": "markdown",
   "metadata": {
    "cell_id": "245b2a93-84cf-4e1b-af0f-9e3a9fb4602d",
    "deepnote_cell_type": "markdown",
    "tags": []
   },
   "source": [
    "##### 1b)\n",
    "Use plt.pcolormesh (or a similiar function) to visualize a system with grid\n",
    "size N . Include a figure of the system you created in 1a). It should be clear from\n",
    "the figure what N and M you have chosen. Tip: If you decide to use the function\n",
    "plt.pcolormesh , you might notice that the rows are interchanged in the plot and in\n",
    "matrix form. An easy fix for this is to use grid[::-1,] as input to plt.pcolormesh "
   ]
  },
  {
   "cell_type": "code",
   "execution_count": 73,
   "metadata": {
    "cell_id": "07938d60-3570-48fd-a194-963047295b24",
    "deepnote_cell_type": "code",
    "deepnote_output_heights": [
     280
    ],
    "deepnote_to_be_reexecuted": true,
    "execution_millis": 292,
    "execution_start": 1643891705450,
    "source_hash": "d305fb43",
    "tags": []
   },
   "outputs": [
    {
     "data": {
      "image/png": "[encoded data removed]",
      "text/plain": [
       "<Figure size 432x288 with 1 Axes>"
      ]
     },
     "metadata": {
      "needs_background": "light"
     },
     "output_type": "display_data"
    }
   ],
   "source": [
    "def plot_grid(grid):\n",
    "    plt.pcolormesh(grid)\n",
    "    N = grid.shape[0]\n",
    "    M = np.count_nonzero(grid)\n",
    "    plt.xlabel(f\"N\")\n",
    "    plt.ylabel(f\"N\")\n",
    "    plt.title(f\"{M} monomers\")\n",
    "    plt.show()\n",
    "\n",
    "plot_grid(universe)"
   ]
  },
  {
   "cell_type": "markdown",
   "metadata": {
    "cell_id": "e28d2172-f487-404e-becd-10f8ba9d309e",
    "deepnote_cell_type": "markdown",
    "tags": []
   },
   "source": [
    "##### 1c)\n",
    "Write a function that takes the size of the grid N , and the matrix indices i and j\n",
    "as input, and returns an array containing the coordinates of the four nearest neighbors.\n",
    "Remember to account for the periodic boundary conditions as described in subsection\n",
    "2.3"
   ]
  },
  {
   "cell_type": "code",
   "execution_count": 74,
   "metadata": {
    "cell_id": "6f4116eb-94bf-4d73-ab75-c3be6059a5e9",
    "deepnote_cell_type": "code",
    "deepnote_output_heights": [
     280
    ],
    "deepnote_to_be_reexecuted": true,
    "execution_millis": 23,
    "execution_start": 1643891705723,
    "source_hash": "c889741f",
    "tags": []
   },
   "outputs": [],
   "source": [
    "def neighbours(N, i, j):\n",
    "    \"\"\"\n",
    "    returns a list containing four neighbours.\n",
    "    Assumes quadratic grid.\n",
    "    \n",
    "    Tror dette funker siden i er 1-indeksert nummer på kollonne, \n",
    "    og j er samme for rad. Virker tungvint men har sikkert noe med grensetilfeller å gjøre...\n",
    "    \"\"\"\n",
    "    left_i = (i - 1 + N) % N \n",
    "    right_i = (i + 1) % N\n",
    "    above_j = (j - 1 + N) % N\n",
    "    below_j = (j + 1) % N\n",
    "\n",
    "    return [[left_i, j], [i, above_j], [right_i, j],[i, below_j]]"
   ]
  },
  {
   "cell_type": "markdown",
   "metadata": {
    "cell_id": "73b2386b-2369-4c88-a9fb-6a20c1c84987",
    "deepnote_cell_type": "markdown",
    "tags": []
   },
   "source": [
    "##### 1d)\n",
    "Write a function that takes the grid as input, and returns the total energy of the\n",
    "system. Tip: For all monomers, use equation (4) to calculate the energy between the\n",
    "monomer and all of its nearest neighbors. The energy of the system is the sum of all\n",
    "the monomer energies (divided by some integer that account for the overcounting of\n",
    "interactions). You may introduce a dimensionless quantity E/α if you wish. Calculate\n",
    "the energy of the grid you presented in 1b).\n"
   ]
  },
  {
   "cell_type": "code",
   "execution_count": 75,
   "metadata": {
    "cell_id": "cf000d5a-c618-45c6-ac4b-6b7841c55601",
    "deepnote_cell_type": "code",
    "deepnote_output_heights": [
     79
    ],
    "deepnote_to_be_reexecuted": true,
    "execution_millis": 1,
    "execution_start": 1643891705746,
    "source_hash": "f53ae823",
    "tags": []
   },
   "outputs": [],
   "source": [
    "def total_energy(grid):\n",
    "    \"\"\"\n",
    "    Søker gjennom monomene og summerer opp energien til systemet. \n",
    "    Regner ut energien for hvert NN par.\n",
    "    \n",
    "    pairs er en liste med alle nabo-monomer parene som algoritmen regner ut energien for.\n",
    "    (bool) calculated_pair sørger for at vi ikke regner ut to ganger per par.\n",
    "    \n",
    "    \"\"\"\n",
    "    e = 1.6e-19\n",
    "    alpha = 0.03485 * e\n",
    "    E = 0 #init\n",
    "    \n",
    "    N = grid.shape[0]\n",
    "    monomers = np.transpose(np.nonzero(grid)) #returns a list with indexes corresponding to monomers\n",
    "    pairs = []\n",
    "\n",
    "    for monomer in monomers:\n",
    "        this = grid[monomer[0], monomer[1]]\n",
    "        for neighbour in neighbours(N, monomer[0], monomer[1]):\n",
    "            #sjekker om nabo-monomer paret allerede er beregnet for.\n",
    "            pair = [monomer.tolist(), neighbour]\n",
    "            reversed_pair = [pair[1], pair[0]]\n",
    "\n",
    "            calculated_pair = (pair in pairs) or (reversed_pair in pairs) #true if already calculated.\n",
    "            \n",
    "            if(grid[neighbour[0], neighbour[1]] != 0.0 and not calculated_pair):\n",
    "                pairs.append(pair)\n",
    "                E += alpha * this * grid[neighbour[0], neighbour[1]] #regner ut.\n",
    "                \n",
    "    return E"
   ]
  },
  {
   "cell_type": "markdown",
   "metadata": {
    "cell_id": "2f000df9-e26d-4b71-b832-ad49a775d683",
    "deepnote_cell_type": "markdown",
    "tags": []
   },
   "source": [
    "##### 1e)\n",
    "Implement the Monte Carlo algorithm described in Algorithm 2. The input pa-\n",
    "rameters should be the number of Monte Carlo steps in the simulation, Ns, as well as N ,\n",
    "M , T and any other parameters you find necessary. It will be convenient to also have a\n",
    "grid as an argument to the function. This grid is the initial system configuration before\n",
    "the simulation starts. For monomer-systems, the only illegal move is trying to move a\n",
    "monomer on top of another monomer."
   ]
  },
  {
   "cell_type": "code",
   "execution_count": 76,
   "metadata": {
    "cell_id": "b67b87bf-50c1-4efa-a182-7d31ba7f227e",
    "deepnote_cell_type": "code",
    "deepnote_output_heights": [
     79
    ],
    "deepnote_to_be_reexecuted": true,
    "execution_millis": 1674361,
    "execution_start": 1643893636508,
    "source_hash": "3cd22fc1",
    "tags": []
   },
   "outputs": [],
   "source": [
    "def MC(Ns, T, init_grid):\n",
    "    \"\"\"\n",
    "    Monte carlo.\n",
    "\n",
    "    Simulerer systemet ved bruk av tilfeldige valg. \n",
    "    Et tilfeldig monomer blir valgt og beveger seg i en tilfeldig retning. Dette blir enten tolket som \n",
    "    en termisk vibrasjon eller en bevegelse mot en lavere system energi.\n",
    "    \"\"\"\n",
    "    t = time.time() #tid\n",
    "\n",
    "    k_b = 1.38e-23\n",
    "    beta = 1 / (k_b * T)\n",
    "    eV = 1.602176634e-19\n",
    "    count = [0, 0, 0] #teller hvor MC havner, i \"if\", \"elif\" eller \"else\"\n",
    "    \n",
    "    N = init_grid.shape[0] #størrelsen på grid\n",
    "    M = np.count_nonzero(init_grid) / 2 #antall positive/negative ladninger\n",
    "    \n",
    "    print(\"starting simulation [ T =\",T,\"K, Ns =\",Ns,\", M =\",M,\", N =\",N, \"]\")\n",
    "\n",
    "    grid = init_grid\n",
    "\n",
    "    monomers = np.transpose(np.nonzero(grid)) #gir indexer til ikke-negative ruter i grid. Aka, monomer \n",
    "    \n",
    "    energies = [total_energy(grid)] #liste som holder på utviklingen av energi\n",
    "    print(\"initial energy: \", energies[-1] / eV, \"eV\")\n",
    "    n = 0\n",
    "\n",
    "    for it in range(Ns):\n",
    "\n",
    "        prev_grid = grid.copy()\n",
    "        prev_monomers = monomers.copy()\n",
    "\n",
    "        #gjør tilfeldige valg:\n",
    "        rand_monomer_index = round(np.random.uniform(0, len(monomers)-1)) #velger en random monomer index\n",
    "        prev_monomer = monomers[rand_monomer_index] #tilfeldig monomer index til grid.\n",
    "        \n",
    "        rand_neighbour_index = round(np.random.uniform(0, 3)) #velger en av 4 naboer\n",
    "        new_monomer = neighbours(N, prev_monomer[0], prev_monomer[1])[rand_neighbour_index] #flyttet til naboposisjon.\n",
    "        \n",
    "        illegalMove = (grid[new_monomer[0], new_monomer[1]] != 0) #monomene kan kun bevege seg til et tomt område\n",
    "\n",
    "        if illegalMove:\n",
    "            continue #prøver på nytt. \n",
    "            #continue gjør at vi begynner på ny i loopen, og det som kommer etterpå blir da ikke gjort.\n",
    "        \n",
    "        #oppdaterer grid og monomer listen\n",
    "        prev_index = (prev_monomer[0], prev_monomer[1])\n",
    "        new_index = (new_monomer[0], new_monomer[1])\n",
    "\n",
    "        charge = grid[prev_index] \n",
    "        grid[prev_index] = 0\n",
    "        grid[new_index] = charge\n",
    "        monomers[rand_monomer_index] = new_monomer\n",
    "\n",
    "        new_energy = total_energy(grid) #energien til systemet etter grid er oppdatert\n",
    "\n",
    "        if new_energy <= energies[-1]: \n",
    "            energies.append(new_energy)\n",
    "            count[0] += 1\n",
    "            #endringen er akseptert\n",
    "\n",
    "        elif random.uniform(0, 1) < np.exp(-beta * (new_energy - energies[-1])): #termisk bevegelse, elns. np.exp(-beta * (new_energy - energies[-1]))\n",
    "            energies.append(new_energy)\n",
    "            count[1] += 1\n",
    "            #endringen er akseptert som resultat av termisk vibrasjon\n",
    "\n",
    "        else:\n",
    "            #endringen er ikke akseptert. Grid og monomer blir tilbakesatt til slik de var og energien er uforandret.\n",
    "            grid = prev_grid \n",
    "            monomers = prev_monomers\n",
    "            #energies.append(energies[-1]) #energien til systemet  er ikke endret\n",
    "            count[2] += 1\n",
    "            \n",
    "        n += 1\n",
    "        if(it/Ns % 0.1 == 0):\n",
    "            # \"gjetter\" hvor mye tid som er igjen\n",
    "            print(it/Ns * 100, \"% ~\", round(((time.time()-t) / n) * (Ns - it)), \"seconds remaining.\", \"system energy: \", energies[-1] / eV, \"eV\")\n",
    "            t = time.time()\n",
    "            n = 0\n",
    "    print(\"100% ~ 0 seconds remaining. system energy: \", energies[-1])\n",
    "    \n",
    "    \n",
    "    return grid, [e / eV for e in energies], count"
   ]
  },
  {
   "cell_type": "markdown",
   "metadata": {
    "cell_id": "fb4b1899-1754-4892-b59c-9f118031b855",
    "deepnote_cell_type": "markdown",
    "tags": []
   },
   "source": [
    "##### 1f)\n",
    "Run two simulations, both with, Ns = 50000, N = 15 and M = 25, but with\n",
    "differing T . Use T = 200 K and T = 500 K. We note that while such temperature\n",
    "variations are not realistic from a biological point of view, it is still interesting to consider\n",
    "its impact. After the last MC step is complete, save the grid configuration from the low\n",
    "T simulation (Using e.g. np.savez ). Plot how the energy develops as a function of t for\n",
    "both simulations in the same figure. Determine visually how many MC steps are needed\n",
    "for the system to reach its equilibrium2 for the two temperatures. We denote this value\n",
    "as tequil. Explain why tequil is different for the two temperatures. Hint: You might want\n",
    "to relate this to the concept of local energy minima."
   ]
  },
  {
   "cell_type": "markdown",
   "metadata": {
    "cell_id": "665b001c-dc87-4798-89ee-a3527cd38440",
    "deepnote_cell_type": "markdown",
    "tags": []
   },
   "source": [
    "Simulating two simulations with T = 200K and T = 500K:"
   ]
  },
  {
   "cell_type": "code",
   "execution_count": 77,
   "metadata": {
    "cell_id": "b443b53e-87d0-4eee-ab29-993ff34a4ecd",
    "deepnote_cell_type": "code",
    "deepnote_to_be_reexecuted": true,
    "execution_millis": 19,
    "execution_start": 1643893895745,
    "source_hash": "2a96f9e3",
    "tags": []
   },
   "outputs": [],
   "source": [
    "T1 = 100 #k\n",
    "T2 = 1000 #k\n",
    "\n",
    "Ns = 25000\n",
    "\n",
    "M = 25\n",
    "N = 15\n",
    "\n",
    "init = setup_grid(N, M)[0]\n",
    "\n",
    "#pool = mp.Pool(mp.cpu_count()) #for parallell processing"
   ]
  },
  {
   "cell_type": "code",
   "execution_count": 78,
   "metadata": {
    "cell_id": "096059ad-192d-4c92-9754-c2b0e220decc",
    "deepnote_cell_type": "code",
    "deepnote_to_be_reexecuted": true,
    "execution_millis": 88137,
    "execution_start": 1643894000334,
    "source_hash": "26913e66",
    "tags": []
   },
   "outputs": [],
   "source": [
    "t0 = time.time()\n",
    "\n",
    "data = [(Ns, T1, init), (Ns, T2, init)] #two configs.\n",
    "\n",
    "#output = pool.starmap(MC, data) #simulating two simulations using multiprocessing\n",
    "\n",
    "t1 = time.time()"
   ]
  },
  {
   "cell_type": "code",
   "execution_count": 79,
   "metadata": {
    "cell_id": "bfa6ae94-15a3-4023-915f-3c395f261b3c",
    "deepnote_cell_type": "code",
    "deepnote_to_be_reexecuted": true,
    "source_hash": "fa911f1d",
    "tags": []
   },
   "outputs": [
    {
     "name": "stdout",
     "output_type": "stream",
     "text": [
      "lol\n"
     ]
    }
   ],
   "source": [
    "print(\"lol\")"
   ]
  },
  {
   "cell_type": "code",
   "execution_count": 80,
   "metadata": {
    "cell_id": "f99d7b00-dd06-43b3-970f-400da41394d1",
    "deepnote_cell_type": "code",
    "deepnote_output_heights": [
     null,
     254
    ],
    "deepnote_to_be_reexecuted": true,
    "execution_millis": 245602,
    "execution_start": 1643894238060,
    "source_hash": "c32c44e2",
    "tags": []
   },
   "outputs": [
    {
     "data": {
      "text/plain": [
       "<BarContainer object of 3 artists>"
      ]
     },
     "execution_count": 80,
     "metadata": {},
     "output_type": "execute_result"
    },
    {
     "data": {
      "image/png": "[encoded data removed]",
      "text/plain": [
       "<Figure size 432x288 with 2 Axes>"
      ]
     },
     "metadata": {
      "needs_background": "light"
     },
     "output_type": "display_data"
    }
   ],
   "source": [
    "fig, axs = plt.subplots(1, 2)\n",
    "elements = (\"if\", \"elif\", \"else\")\n",
    "x_pos = np.arange(0, 3, 1)\n",
    "axs[0].bar(x_pos, count1)"
   ]
  },
  {
   "cell_type": "code",
   "execution_count": 81,
   "metadata": {
    "cell_id": "652d3eae-5ebb-461a-ab76-54db7b24472b",
    "deepnote_cell_type": "code",
    "deepnote_to_be_reexecuted": true,
    "execution_millis": 10,
    "execution_start": 1643894091228,
    "source_hash": "420218f7",
    "tags": []
   },
   "outputs": [
    {
     "name": "stdout",
     "output_type": "stream",
     "text": [
      "starting simulation [ T = 100 K, Ns = 25000 , M = 25.0 , N = 15 ]\n",
      "initial energy:  44.51259523236811 eV\n",
      "10.0 % ~ 38 seconds remaining. system energy:  -262.6904369147103 eV\n",
      "20.0 % ~ 39 seconds remaining. system energy:  -262.6904369147103 eV\n",
      "40.0 % ~ 26 seconds remaining. system energy:  -262.6904369147103 eV\n",
      "100% ~ 0 seconds remaining. system energy:  -4.2087647999999987e-17\n",
      "starting simulation [ T = 1000 K, Ns = 25000 , M = 25.0 , N = 15 ]\n",
      "initial energy:  34.280614780205305 eV\n",
      "0.0 % ~ 66 seconds remaining. system energy:  34.280614780205305 eV\n",
      "10.0 % ~ 30 seconds remaining. system energy:  -203.07348958629242 eV\n",
      "40.0 % ~ 22 seconds remaining. system energy:  -220.0223823760994 eV\n",
      "80.0 % ~ 8 seconds remaining. system energy:  -224.3379115463994 eV\n",
      "100% ~ 0 seconds remaining. system energy:  -3.594289599999999e-17\n",
      "[148, 0, 14549] [230, 19, 16124]\n"
     ]
    }
   ],
   "source": [
    "init = setup_grid(N, M)[0]\n",
    "\n",
    "final1, energies1, count1= MC(Ns, T1, init)\n",
    "final2, energies2, count2 =MC(Ns, T2, init)\n",
    "\n",
    "print(count1, count2)"
   ]
  },
  {
   "cell_type": "code",
   "execution_count": 82,
   "metadata": {
    "cell_id": "770fd7ea-1c29-402e-a529-2501d042101f",
    "deepnote_cell_type": "code",
    "deepnote_output_heights": [
     611
    ],
    "deepnote_to_be_reexecuted": true,
    "execution_millis": 1526,
    "execution_start": 1643894093279,
    "source_hash": "a669f2c0",
    "tags": []
   },
   "outputs": [
    {
     "data": {
      "image/png": "[encoded data removed]",
      "text/plain": [
       "<Figure size 720x720 with 6 Axes>"
      ]
     },
     "metadata": {
      "needs_background": "light"
     },
     "output_type": "display_data"
    }
   ],
   "source": [
    "fig, axs = plt.subplots(3, 2, figsize = (10, 10))\n",
    "axs[0][0].pcolormesh(init, vmin = -1, vmax = 1)\n",
    "axs[0][0].set_title(f\"Initial system. T = {T1}K\")\n",
    "axs[0][1].pcolormesh(init, vmin = -1, vmax = 1)\n",
    "axs[0][1].set_title(f\"Initial system. T = {T2}K\")\n",
    "axs[1][0].pcolormesh(final1, vmin = -1, vmax = 1)\n",
    "axs[1][0].set_title(f\"T = {T1}K. System after {Ns} iterations\")\n",
    "axs[1][1].pcolormesh(final2, vmin = -1, vmax = 1)\n",
    "axs[1][1].set_title(f\"T = {T2}K. System after {Ns} iterations\")\n",
    "axs[2][0].plot(np.arange(0, len(energies1), 1), energies1)\n",
    "axs[2][0].set_title(f\"Energy development during iterations. T = {T1}\")\n",
    "axs[2][1].plot(np.arange(0, len(energies2), 1), energies2)\n",
    "axs[2][1].set_title(f\"Energy development during iterations. T = {T2}\")\n",
    "fig.tight_layout(pad=3.0)"
   ]
  },
  {
   "cell_type": "markdown",
   "metadata": {
    "cell_id": "1f5af4f4-28e7-4d13-9075-0afa12d1bd79",
    "deepnote_cell_type": "markdown",
    "tags": []
   },
   "source": [
    "##### 1g)\n",
    "Write a function that takes a grid as input, and returns the corresponding cluster\n",
    "grid. Hint: Using recursion in combination with the function you wrote in 1c) may be a\n",
    "good idea here. Use the data you saved in 1f ) to visualize the grid and the corresponding\n",
    "cluster grid side-by-side (i.e. a similar figure to Figure 4)."
   ]
  },
  {
   "cell_type": "code",
   "execution_count": 220,
   "metadata": {
    "cell_id": "87026390-991b-456b-894b-f62b644b6f6c",
    "deepnote_cell_type": "code",
    "deepnote_to_be_reexecuted": true,
    "scrolled": false,
    "source_hash": "831dc181",
    "tags": []
   },
   "outputs": [
    {
     "data": {
      "image/png": "[encoded data removed]",
      "text/plain": [
       "<Figure size 432x288 with 1 Axes>"
      ]
     },
     "metadata": {
      "needs_background": "light"
     },
     "output_type": "display_data"
    },
    {
     "data": {
      "image/png": "[encoded data removed]",
      "text/plain": [
       "<Figure size 432x288 with 1 Axes>"
      ]
     },
     "metadata": {
      "needs_background": "light"
     },
     "output_type": "display_data"
    }
   ],
   "source": [
    "from pprint import pprint\n",
    "\n",
    "class Monomer:\n",
    "    def __init__(self, position):\n",
    "        self.position = position\n",
    "        self.checked = False\n",
    "        self.neighbours = []\n",
    "        self.number = 0\n",
    "    \n",
    "    def set_neighbour(self, neighbour):\n",
    "        if neighbour.position not in [n.position for n in self.neighbours]:\n",
    "            self.neighbours.append(neighbour)\n",
    "    \n",
    "    def give_number(self, number):\n",
    "        if not self.checked:\n",
    "            self.checked = True\n",
    "            self.number = number\n",
    "            for neighbour in self.neighbours:\n",
    "                neighbour.give_number(number)\n",
    "    \n",
    "    def __str__(self):\n",
    "        return f\"{self.position}, number={self.number},\"\n",
    "\n",
    "    def __repr__(self):\n",
    "        return self.__str__()\n",
    "\n",
    "def occupied_neighbours(grid, monomer: \"Monomer\", all_monomers: \"list[Monomer]\"):\n",
    "    #monomer_neighbours = neighbours(grid.shape[0], monomer[0], monomer[1])\n",
    "    #print(monomer_neighbours)\n",
    "    #acutal_neighbours = []\n",
    "    #for neighbour in monomer_neighbours:\n",
    "    #    if grid[neighbour[0]][neighbour[1]] != 0:\n",
    "    #        acutal_neighbours.append(neighbour)\n",
    "    #acutal_neighbours = [tuple(neighbor) for neighbor in acutal_neighbours]\n",
    "    acutal_neighbours = []\n",
    "    all_neighbours = list(tuple(coordinate) for coordinate in neighbours(grid.shape[0], *monomer.position))\n",
    "    for potential_monomer in all_monomers:\n",
    "        if potential_monomer.position in all_neighbours:\n",
    "            acutal_neighbours.append(potential_monomer)\n",
    "\n",
    "    return acutal_neighbours\n",
    "\n",
    "def cluster_grid(grid):\n",
    "    monomers =  np.transpose(np.nonzero(grid))\n",
    "    monomers = [Monomer(tuple(monomer)) for monomer in monomers]\n",
    "    new_grid = grid.copy()\n",
    "    number = 4\n",
    "    for monomer in monomers:\n",
    "        neighbours = occupied_neighbours(grid, monomer, monomers)\n",
    "        for neighbour in neighbours:\n",
    "            monomer.set_neighbour(neighbour)\n",
    "    for monomer in monomers:\n",
    "        monomer.give_number(number)\n",
    "        number += 3\n",
    "        \n",
    "    for monomer in monomers:\n",
    "        new_grid[monomer.position[0], monomer.position[1]] = monomer.number\n",
    "    #checked = 0\n",
    "    #For hvert polymer: Gi tall og sett dette tallet for alle monomerer i polymer i nytt grid\n",
    "    #for monomer in monomers: \n",
    "    #    neighbour_list = occupied_neighbours(grid, monomer)#Liste med nabomonomerer\n",
    "    #    if len(neighbour_list) != 0: \n",
    "    #        #Har en av nabeoen blitt sjekket allerede?\n",
    "    #        for neighbour in neighbour_list:\n",
    "    #            if neighbour in checked_monomers:\n",
    "    #                print(\"neighbor found\")\n",
    "    #                new_grid[monomer[0],monomer[1]] = new_grid[neighbour[0]][neighbour[1]]#gir samme verdi som naboen har fått tildelt\n",
    "    #                #alle naboene får samme verdi\n",
    "    #                for neighbour_2 in neighbour_list:\n",
    "    #                    new_grid[neighbour_2[0],neighbour_2[1]] = new_grid[monomer[0]][monomer[1]]\n",
    "    #                    checked_monomers.append(neighbour_2) #Bli lagt til i checked\n",
    "    #                    np.delete(monomers,neighbour_2) #Bli fjernet fra monomerlista\n",
    "    #                checked = 1\n",
    "    #\n",
    "    #    \n",
    "    #    if checked == 0:\n",
    "    #        new_grid[monomer[0]][monomer[1]] = number #få verdi = number \n",
    "    #        number+=1 #Oppdatere sånn at neste polymer får et nytt tall\n",
    "    #        checked_monomers.append(monomer) #legges til i checked monomers\n",
    "    #        np.delete(monomers, monomer)       \n",
    "    \n",
    "    return new_grid\n",
    "\n",
    "\n",
    "plot_grid(final1)\n",
    "plot_grid(cluster_grid(final1))\n"
   ]
  },
  {
   "cell_type": "code",
   "execution_count": null,
   "metadata": {
    "cell_id": "d7f3dbc2-218b-4461-9df6-c32af362d89f",
    "deepnote_cell_type": "code",
    "tags": []
   },
   "outputs": [],
   "source": [
    "\n",
    "\n",
    "def meanClusterSize(clusterGrid):\n",
    "    PolSizes = [] #Liste som inneholder lengden av hver polymer\n",
    "\n",
    "    while(np.all(clusterGrid)):\n",
    "        nr = 1\n",
    "        for i in range(N):\n",
    "            for j in range(N):\n",
    "                if(clusterGrid[i][j] == nr):\n",
    "                    PolSizes[nr] += 1\n",
    "                    "
   ]
  },
  {
   "cell_type": "markdown",
   "metadata": {
    "cell_id": "76a83fad-953a-4f61-82bd-33275d054e66",
    "deepnote_cell_type": "markdown",
    "tags": []
   },
   "source": [
    "##### 1h)\n",
    "Plot ⟨d⟩ as a function of T . Why is ⟨d⟩ larger at small T ? Discuss if your choice\n",
    "of n will yield reliable results. Are any of your results surprising? In order to observe\n",
    "how the initial conditions of the grid affects the clustering size, redo the simulation,\n",
    "and compare the results of the two simulations. Why is the discrepancy between the\n",
    "simulations larger at lower temperatures?"
   ]
  },
  {
   "cell_type": "markdown",
   "metadata": {
    "cell_id": "95a9bfa0-fa15-4f8c-84df-86a13eeea111",
    "deepnote_cell_type": "markdown",
    "tags": []
   },
   "source": [
    "### Oppgave 2"
   ]
  },
  {
   "cell_type": "markdown",
   "metadata": {
    "cell_id": "93591ae7-e5ca-4364-8f72-360d5f940d8e",
    "deepnote_cell_type": "markdown",
    "tags": []
   },
   "source": [
    "##### 2a)\n",
    "Write a similar function as you did in 1a), but now you should also take the\n",
    "multivalency L as input. This is an extension of Algorithm 1 where you place M posi-\n",
    "tively and M negatively charged polymers. The function should return a grid with 2M\n",
    "polymers, each with multivalency L. Include a figure of a system with L > 20"
   ]
  },
  {
   "cell_type": "markdown",
   "metadata": {
    "cell_id": "7770bb36-5245-4a82-84e1-bb1050713630",
    "deepnote_cell_type": "markdown",
    "tags": []
   },
   "source": [
    "##### 2b)\n",
    "Extend the energy function you wrote in exercise 1d), so it can calculate the\n",
    "energy of polymer-systems. As mentioned in the introduction, covalent bonds bind\n",
    "monomers within the same polymer, thus, for simplicity, you may put interactions be-\n",
    "tween monomers belonging to the same polymer to zero."
   ]
  },
  {
   "cell_type": "markdown",
   "metadata": {
    "cell_id": "2c32ac1c-1997-4a0a-9f7f-c97b688ffd60",
    "deepnote_cell_type": "markdown",
    "tags": []
   },
   "source": [
    "##### 2c)\n",
    "Implement a function that rigidly moves an input-specified polymer in an input-\n",
    "specified direction. In order to specify direction, one possible choice is to specify the\n",
    "direction by integers: [Right, Left, Up, Down] ⇐⇒ [0, 1, 2, 3]."
   ]
  },
  {
   "cell_type": "markdown",
   "metadata": {
    "cell_id": "12d83245-b720-4b1e-b267-529cbcf52146",
    "deepnote_cell_type": "markdown",
    "tags": []
   },
   "source": [
    "##### 2d)\n",
    "Implement Algorithm 2 and use it to run a Monte Carlo simulation of a system\n",
    "with L > 10, 2 < M < 6, T = 200 K. Choose N freely, and use the rigid move from\n",
    "2c) to move the polymers. Include a figure of the grid after 30000 MC steps. Comment\n",
    "on why the system looks the way it does. Explain, using both quantitative results from\n",
    "your simulation and from an “algorithmic” point of view, how and why the run time\n",
    "requirements have changed in comparison with the monomer-systems you studied in\n",
    "exercise 1). Tip: It might be convenient to have the function that moves the polymers\n",
    "as an optional argument to the Monte Carlo function. In this way, you can reuse your\n",
    "MC function when you introduce new move functions."
   ]
  },
  {
   "cell_type": "markdown",
   "metadata": {
    "cell_id": "2e754c2e-73c6-40cd-aea7-73724d66eab6",
    "deepnote_cell_type": "markdown",
    "tags": []
   },
   "source": [
    "##### 2e)\n",
    "Implement the medium flexibility move. Tip: It might be useful to do this exercise\n",
    "in tandem with 2f )."
   ]
  },
  {
   "cell_type": "markdown",
   "metadata": {
    "cell_id": "c06a3171-38e1-4b46-bb90-39a39751c372",
    "deepnote_cell_type": "markdown",
    "tags": []
   },
   "source": [
    "##### 2f)\n",
    "Write a function that checks if a polymer is broken. Hint: This function will be\n",
    "almost identical to the one you wrote in exercise 1g). Improve your implementation of\n",
    "the medium flexibility move, such that it checks if the polymer is broken after the move\n",
    "is completed. If it is broken, the function should instead return the original grid (i.e.\n",
    "the grid where the polymer is not moved)."
   ]
  },
  {
   "cell_type": "markdown",
   "metadata": {
    "cell_id": "4dfc7708-c69f-47e5-a10e-1b3da5d71b94",
    "deepnote_cell_type": "markdown",
    "tags": []
   },
   "source": [
    "##### 2g)\n",
    "Redo the simulation in exercise 2d) with the same parameters, but using the\n",
    "medium flexible move. Compare the grid produced with flexible polymers to the one\n",
    "you presented in 2d). Plot the energy as a function of MC steps from the two simulations,\n",
    "and comment on your results. How does the energy of the system relate to the physical\n",
    "placement of the polymers?"
   ]
  },
  {
   "cell_type": "markdown",
   "metadata": {
    "cell_id": "7d236d3e-71c4-4979-8f5f-253bb5427729",
    "deepnote_cell_type": "markdown",
    "tags": []
   },
   "source": [
    "#####"
   ]
  },
  {
   "cell_type": "markdown",
   "metadata": {
    "created_in_deepnote_cell": true,
    "deepnote_cell_type": "markdown",
    "tags": []
   },
   "source": [
    "<a style='text-decoration:none;line-height:16px;display:flex;color:#5B5B62;padding:10px;justify-content:end;' href='https://deepnote.com?utm_source=created-in-deepnote-cell&projectId=75bebf44-3a70-48be-871a-1166f77852cb' target=\"_blank\">\n",
    "<img alt='Created in deepnote.com' style='display:inline;max-height:16px;margin:0px;margin-right:7.5px;' src='data:image/svg+xml;base64,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' > </img>\n",
    "Created in <span style='font-weight:600;margin-left:4px;'>Deepnote</span></a>"
   ]
  }
 ],
 "metadata": {
  "deepnote": {
   "is_reactive": false
  },
  "deepnote_execution_queue": [],
  "deepnote_notebook_id": "14c52b52-85e3-4b43-ae2f-35b451aed07d",
  "kernelspec": {
   "display_name": "Python 3",
   "language": "python",
   "name": "python3"
  },
  "language_info": {
   "codemirror_mode": {
    "name": "ipython",
    "version": 3
   },
   "file_extension": ".py",
   "mimetype": "text/x-python",
   "name": "python",
   "nbconvert_exporter": "python",
   "pygments_lexer": "ipython3",
   "version": "3.8.5"
  }
 },
 "nbformat": 4,
 "nbformat_minor": 2
}
