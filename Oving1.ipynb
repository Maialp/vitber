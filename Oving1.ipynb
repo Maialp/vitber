{
 "cells": [
  {
   "cell_type": "markdown",
   "metadata": {},
   "source": [
    "# Øving 1, TMA4320\n",
    "\n",
    "* **Veiledning:** Foregår via Mattelab og Zoom, torsdag 20.01 kl. 10.15-12.00 og fredag 21.01 kl.08.15-10.00  vil det være opplegg for å melde inn ønske om Zoom-veiledning, følg med på Mattelab for organisering av dette.\n",
    "* **Innleveringsfrist:** Mandag 24.01, kl. 23.59.\n",
    "* **Innleveringsmetode** Følgende to krav er nødvendig for godkjenning\n",
    "    1. Opplasting av Jupyter Notebook (individuelt) i Blackboard\n",
    "    2. Svare på skjema med kontrollspørsmål under Øving 1 i Blackboard (minst 5 av 8 oppgaver må være besvart). \n",
    "    \n",
    "Før du utfører øvingen, gå gjennom notatene\n",
    "\n",
    "* [Introduction to Jupyter with Python](http://www.math.ntnu.no/emner/TMA4320/2022v/notebooks/Introduction.ipynb)\n",
    "* [Preliminaries](http://www.math.ntnu.no/emner/TMA4320/2022v/notebooks/Preliminaries.ipynb)\n",
    "\n",
    "Teorien brukt i denne øvingen finner du i notatet\n",
    "\n",
    "* [Numerical Solution of Nonlinear Equations](http://www.math.ntnu.no/emner/TMA4320/2022v/notebooks/NonLinearEquations.ipynb) \n",
    "\n",
    "Det er lagt inn noen **Tenk over**. Dette er spørsmål som ikke behøver besvares som en del av øvingen, men som kan dukke opp som eksamensspørsmål. Disse handler ofte om sammenheng mellom numeriske resultater og teori.  "
   ]
  },
  {
   "cell_type": "code",
   "execution_count": 63,
   "metadata": {},
   "outputs": [],
   "source": [
    "%matplotlib inline\n",
    "\n",
    "import numpy as np\n",
    "from numpy.linalg import solve, norm    # Solve linear systems and compute norms\n",
    "import matplotlib.pyplot as plt\n",
    "newparams = {'figure.figsize': (8.0, 4.0), 'axes.grid': True,\n",
    "             'lines.markersize': 8, 'lines.linewidth': 2,\n",
    "             'font.size': 14}\n",
    "plt.rcParams.update(newparams)"
   ]
  },
  {
   "cell_type": "markdown",
   "metadata": {},
   "source": [
    "**Oppgave 1**\n",
    "\n",
    "La oss starte med intervallhalveringsmetoden. Vi søker nullpunkter i funksjonen\n",
    "$$\n",
    "f(x)=e^x+x^2-x-4 = 0\n",
    "$$\n",
    "\n",
    "**(a)** Start med å lage en Python-funksjon som definerer $f(x)$ og plott den i intervallet $[-2,2]$.\n",
    "\n",
    "**Kontrollspørsmål 1** Hvor mange nullpunkter har $f(x)$ i dette intervallet sett ut fra grafen?\n"
   ]
  },
  {
   "cell_type": "code",
   "execution_count": 64,
   "metadata": {},
   "outputs": [
    {
     "data": {
      "text/plain": [
       "[<matplotlib.lines.Line2D at 0x7fa35d0950d0>]"
      ]
     },
     "execution_count": 64,
     "metadata": {},
     "output_type": "execute_result"
    },
    {
     "data": {
      "image/png": "[encoded data removed]",
      "text/plain": [
       "<Figure size 576x288 with 1 Axes>"
      ]
     },
     "metadata": {
      "needs_background": "light"
     },
     "output_type": "display_data"
    }
   ],
   "source": [
    "# Fyll inn kode her\n",
    "def f1(x):\n",
    "    return np.exp(x)+x**2-x-4\n",
    "\n",
    "x = np.linspace(-2,2,100)\n",
    "plt.plot(x,f1(x))\n"
   ]
  },
  {
   "cell_type": "markdown",
   "metadata": {},
   "source": [
    "**(b)**\n",
    "I denne oppgaven skal du bruke funksjonen `bisection()` til å beregne en av røttene til ligningen. \n",
    "Start med intervallet $[0,2]$, og bruk toleransen $10^{-6}$. \n",
    "\n",
    "**Tenk over:**\n",
    "* Hvilken av røttene er det sannsynlig at iterasjonene konvergerer mot? \n",
    "* Hvor mange iterasjoner trengs for å oppnå en nøyaktighet på minst $|x_k-r|\\leqslant 10^{-7}$?\n",
    "* Hva skjer hvis du prøver med intervallet $[-2,2]$? \n",
    "\n",
    "Hvordan sammenfaller dette med det du faktisk oppnår? \n",
    "\n",
    "**Kontrollspørsmål 2** Er roten du får ut med inngangsverdiene  $[a,b] =[0,2]$ og toleranse $10^{-6}$ større eller mindre enn 1.29?\n",
    "\n",
    "**Kontrollspørsmål 3** Hvor mange intervallhalveringer bruker funksjonen for å finne svaret?"
   ]
  },
  {
   "cell_type": "code",
   "execution_count": 65,
   "metadata": {},
   "outputs": [],
   "source": [
    "def bisection(f, a, b, tol=1.e-6, max_iter = 100):\n",
    "    ''' Solve the scalar equation f(x)=0 by bisection \n",
    "        The result of each iteration is printed\n",
    "    Input:\n",
    "        f:        The function. \n",
    "        a, b:     Interval: \n",
    "        tol :     Tolerance\n",
    "        max_iter: Maximum number of iterations\n",
    "    Output:\n",
    "        the root and the number of iterations.\n",
    "    '''\n",
    "    fa = f(a)\n",
    "    fb = f(b)\n",
    "\n",
    "    assert fa*fb<0, 'Error: f(a)*f(b)>0, there may be no root in the interval.'\n",
    "    \n",
    "    for k in range(max_iter):\n",
    "        c = 0.5*(a+b)                 # The midpoint\n",
    "        fc = f(c)                   \n",
    "        print(f\"k ={k:3d}, a = {a:.6f}, b = {b:.6f}, c = {c:.6f}, f(c) = {fc:10.3e}\")\n",
    "        if abs(f(c)) < 1.e-14 or (b-a) < 2*tol:     # The zero is found!\n",
    "            break \n",
    "        elif fa*fc < 0:               \n",
    "            b = c                     # There is a root in [a, c]\n",
    "        else:\n",
    "            a = c                     # There is a root in [c, b]  \n",
    "    return c, k"
   ]
  },
  {
   "cell_type": "code",
   "execution_count": 66,
   "metadata": {},
   "outputs": [
    {
     "name": "stdout",
     "output_type": "stream",
     "text": [
      "k =  0, a = 0.000000, b = 2.000000, c = 1.000000, f(c) = -1.282e+00\n",
      "k =  1, a = 1.000000, b = 2.000000, c = 1.500000, f(c) =  1.232e+00\n",
      "k =  2, a = 1.000000, b = 1.500000, c = 1.250000, f(c) = -1.972e-01\n",
      "k =  3, a = 1.250000, b = 1.500000, c = 1.375000, f(c) =  4.707e-01\n",
      "k =  4, a = 1.250000, b = 1.375000, c = 1.312500, f(c) =  1.256e-01\n",
      "k =  5, a = 1.250000, b = 1.312500, c = 1.281250, f(c) = -3.851e-02\n",
      "k =  6, a = 1.281250, b = 1.312500, c = 1.296875, f(c) =  4.286e-02\n",
      "k =  7, a = 1.281250, b = 1.296875, c = 1.289062, f(c) =  2.002e-03\n",
      "k =  8, a = 1.281250, b = 1.289062, c = 1.285156, f(c) = -1.830e-02\n",
      "k =  9, a = 1.285156, b = 1.289062, c = 1.287109, f(c) = -8.158e-03\n",
      "k = 10, a = 1.287109, b = 1.289062, c = 1.288086, f(c) = -3.081e-03\n",
      "k = 11, a = 1.288086, b = 1.289062, c = 1.288574, f(c) = -5.400e-04\n",
      "k = 12, a = 1.288574, b = 1.289062, c = 1.288818, f(c) =  7.308e-04\n",
      "k = 13, a = 1.288574, b = 1.288818, c = 1.288696, f(c) =  9.537e-05\n",
      "k = 14, a = 1.288574, b = 1.288696, c = 1.288635, f(c) = -2.223e-04\n",
      "k = 15, a = 1.288635, b = 1.288696, c = 1.288666, f(c) = -6.348e-05\n",
      "k = 16, a = 1.288666, b = 1.288696, c = 1.288681, f(c) =  1.595e-05\n",
      "k = 17, a = 1.288666, b = 1.288681, c = 1.288673, f(c) = -2.377e-05\n",
      "k = 18, a = 1.288673, b = 1.288681, c = 1.288677, f(c) = -3.911e-06\n",
      "k = 19, a = 1.288677, b = 1.288681, c = 1.288679, f(c) =  6.018e-06\n",
      "k = 20, a = 1.288677, b = 1.288679, c = 1.288678, f(c) =  1.054e-06\n"
     ]
    }
   ],
   "source": [
    "# Fyll inn kode her\n",
    "\n",
    "c, k  = bisection(f1, 0, 2, tol=1.e-6, max_iter = 100)"
   ]
  },
  {
   "cell_type": "markdown",
   "metadata": {},
   "source": [
    "**Oppgave 2**\n",
    "\n",
    "Denne oppgaven går ut på å løse ligningen \n",
    "$$\n",
    "f(x)=e^x+x^2-x-4 = 0\n",
    "$$\n",
    "ved hjelp av fikspunktiterasjoner. Her er tre mulige måter å skrive disse ligningene om på fikspunktform:\n",
    "$$\n",
    " \\begin{array}{ll}\n",
    "    i)   &x=g_1(x) =\\ln(4+x-x^2) \\\\[2mm]\n",
    "    ii)  &x=g_2(x) = \\sqrt{-e^x+x+4} \\\\[2mm]\n",
    "    iii) \\qquad &x=g_3(x) = e^x+x^2-4\n",
    "  \\end{array}\n",
    "$$\n",
    "Bruk koden `fixedpoint()`  til å finne ei rot av $f(x)$ ved bruk av fikspunktiterasjoner. \n",
    "Bruk $x_0=1.5$ som startverdi, og $Tol=10^{-6}$. \n",
    "\n",
    "**Kontrollspørsmål 4**  Hvilke av de tre omskrivningene konvergerer mot rota $r = 1.288677967$.\n",
    "\n",
    "Regn ut $g'(r)$ for de tre tilfellene, og **tenk over** hvordan resultatet over kan forklares ved bruk av fikspunktteoremet. "
   ]
  },
  {
   "cell_type": "code",
   "execution_count": 67,
   "metadata": {},
   "outputs": [],
   "source": [
    "def fixedpoint(g, x0, tol=1.e-8, max_iter=30):\n",
    "    ''' Solve x=g(x) by fixed point iterations\n",
    "        The output of each iteration is printed\n",
    "    Input:\n",
    "        g:   The function g(x)\n",
    "        x0:  Initial values\n",
    "        tol: The tolerance\n",
    "    Output:\n",
    "        The root and the number of iterations\n",
    "    '''\n",
    "    x = x0\n",
    "    print(f\"k ={0:3d}, x = {x:14.10f}\") \n",
    "    for k in range(max_iter):        \n",
    "        x_old = x                        # Store old values for error estimation \n",
    "        x = g(x)                         # The iteration\n",
    "        err = abs(x-x_old)               # Error estimate\n",
    "        print(f\"k ={k+1:3d}, x = {x:14.10f}\") \n",
    "        if err < tol:                    # The solution is accepted \n",
    "            break\n",
    "    return x, k+1"
   ]
  },
  {
   "cell_type": "code",
   "execution_count": 68,
   "metadata": {},
   "outputs": [
    {
     "name": "stdout",
     "output_type": "stream",
     "text": [
      "k =  0, x =   1.5000000000\n",
      "k =  1, x =   1.0091139329\n",
      "k =  2, x =   1.5053054929\n",
      "k =  3, x =   0.9998878264\n",
      "k =  4, x =   1.5105995169\n",
      "k =  5, x =   0.9905322092\n",
      "k =  6, x =   1.5158710552\n",
      "k =  7, x =   0.9810634053\n",
      "k =  8, x =   1.5211088914\n",
      "k =  9, x =   0.9714992449\n",
      "k = 10, x =   1.5263017049\n",
      "k = 11, x =   0.9618589916\n",
      "k = 12, x =   1.5314381740\n",
      "k = 13, x =   0.9521632379\n",
      "k = 14, x =   1.5365070839\n",
      "k = 15, x =   0.9424337713\n",
      "k = 16, x =   1.5414974395\n",
      "k = 17, x =   0.9326934087\n",
      "k = 18, x =   1.5463985775\n",
      "k = 19, x =   0.9229658020\n",
      "k = 20, x =   1.5512002794\n",
      "k = 21, x =   0.9132752165\n",
      "k = 22, x =   1.5558928786\n",
      "k = 23, x =   0.9036462847\n",
      "k = 24, x =   1.5604673626\n",
      "k = 25, x =   0.8941037426\n",
      "k = 26, x =   1.5649154652\n",
      "k = 27, x =   0.8846721509\n",
      "k = 28, x =   1.5692297481\n",
      "k = 29, x =   0.8753756100\n",
      "k = 30, x =   1.5734036689\n"
     ]
    },
    {
     "data": {
      "text/plain": [
       "(1.5734036688636315, 30)"
      ]
     },
     "execution_count": 68,
     "metadata": {},
     "output_type": "execute_result"
    }
   ],
   "source": [
    "# Fyll inn kode her\n",
    "def g1(x):\n",
    "    return np.log(4+x-x**2)\n",
    "def g2(x):\n",
    "    return np.sqrt(-np.exp(x)+x +4)\n",
    "def g3(x):\n",
    "    return np.exp(x)+x**2-4\n",
    "\n",
    "fixedpoint(g2, x0 = 1.5, tol=1.e-6, max_iter=30)"
   ]
  },
  {
   "cell_type": "markdown",
   "metadata": {},
   "source": [
    "**Oppgave 3**\n",
    "\n",
    "**(a)** Vis at $r=\\sqrt(3)$ er et fikspunkt av \n",
    "$$\n",
    "   x = g(x) = \\frac{2x}{3}+\\frac{1}{x}\n",
    "$$\n",
    "\n",
    "**(b)** Løs ligningen over ved bruk av `fixedpoint()`. Bruk $x_0=1.5$ og $Tol=1.e-5$.\n",
    "\n",
    "**Kontrollspørsmål 5** Hvor mange iterasjoner ble brukt? "
   ]
  },
  {
   "cell_type": "code",
   "execution_count": 70,
   "metadata": {},
   "outputs": [
    {
     "name": "stdout",
     "output_type": "stream",
     "text": [
      "k =  0, x =   1.5000000000\n",
      "k =  1, x =   1.6666666667\n",
      "k =  2, x =   1.7111111111\n",
      "k =  3, x =   1.7251563252\n",
      "k =  4, x =   1.7297618312\n",
      "k =  5, x =   1.7312888251\n",
      "k =  6, x =   1.7317969252\n",
      "k =  7, x =   1.7319661925\n",
      "k =  8, x =   1.7320226039\n",
      "k =  9, x =   1.7320414065\n",
      "k = 10, x =   1.7320476739\n"
     ]
    },
    {
     "data": {
      "text/plain": [
       "(1.7320476738993622, 10)"
      ]
     },
     "execution_count": 70,
     "metadata": {},
     "output_type": "execute_result"
    }
   ],
   "source": [
    "# Fyll inn kode her\n",
    "# a) r = sqrt(3) er et fikspunkt av g(x) ettersom g(sqrt(3)) = sqrt(3)\n",
    "\n",
    "def g4(x):\n",
    "    return (2*x)/3 + 1/x\n",
    "\n",
    "fixedpoint(g4, x0 = 1.5, tol=1.e-5, max_iter=30)\n"
   ]
  },
  {
   "cell_type": "markdown",
   "metadata": {},
   "source": [
    "Resten av denne oppgaven handler om å bruke siste del av fikspunktteoremet, og vise hvordan man kan verifisere teori med numeriske eksperimenter. \n",
    "Du behøver ikke levere inn utregningene, bare svare på kontrollspørsmålene. Men dette er potensielle eksamensoppgaver, så det kan være fornuftig å gjøre dem.\n",
    "\n",
    "**(c)** \n",
    "Gitt intervallet $[1.5,2.0]$. \n",
    "\n",
    "**Tenk over** om $g$ oppfyller alle betingelsene i *Fikspunktteoremet* i dette intervallet, og at $|g'(x)|\\leq 5/12$ for alle $x\\in[1.5,2.0]$. \n",
    "\n",
    "Bruk deretter *A-priori feilestimatet* fra fikspunktteoremet til å finne maksimalt antall iterasjoner $k_{maks}$ som trengs for at feilen $|x_k-r|$ garantert skal være mindre enn $10^{-5}$. Bruk $L=5/12$ og $x_0=1.5$.\n",
    "\n",
    "**Kontrollspørsmål 6**: Hva er $k_{maks}$? \n",
    "\n",
    "**(d)** Modifiser `fixedpoint()` slik at du stopper iterasjonene når når den virkelige feilen $|r-x_k|<=1.e-5$.\n",
    "\n",
    "**Kontrollspørsmål 7**: Hvor mange iterasjoner ble brukt denne gangen? \n",
    "\n",
    "*Sjekk*: Svaret fra kontrollspørsmål 8 bør være mindre eller lik enn svaret i kontrollspørsmal 7. Men det behøver ikke være lik svaret i kontrollspørsmål 6 (hvorfor ikke)?"
   ]
  },
  {
   "cell_type": "code",
   "execution_count": 72,
   "metadata": {},
   "outputs": [
    {
     "name": "stdout",
     "output_type": "stream",
     "text": [
      "k = 0  e_k = 0.5\n",
      "k = 1  e_k = 0.20833333333333334\n",
      "k = 2  e_k = 0.08680555555555557\n",
      "k = 3  e_k = 0.03616898148148149\n",
      "k = 4  e_k = 0.015070408950617287\n",
      "k = 5  e_k = 0.006279337062757203\n",
      "k = 6  e_k = 0.0026163904428155014\n",
      "k = 7  e_k = 0.0010901626845064589\n",
      "k = 8  e_k = 0.0004542344518776913\n",
      "k = 9  e_k = 0.00018926435494903804\n",
      "k = 10  e_k = 7.886014789543251e-05\n",
      "k = 11  e_k = 3.2858394956430214e-05\n",
      "k = 12  e_k = 1.3690997898512591e-05\n",
      "k = 13  e_k = 5.70458245771358e-06\n",
      "k =  0, x =   1.5000000000\n",
      "k =  1, x =   1.6666666667\n",
      "k =  2, x =   1.7111111111\n",
      "k =  3, x =   1.7251563252\n",
      "k =  4, x =   1.7297618312\n",
      "k =  5, x =   1.7312888251\n",
      "k =  6, x =   1.7317969252\n",
      "k =  7, x =   1.7319661925\n",
      "k =  8, x =   1.7320226039\n",
      "k =  9, x =   1.7320414065\n"
     ]
    },
    {
     "data": {
      "text/plain": [
       "(1.7320414065093055, 9)"
      ]
     },
     "execution_count": 72,
     "metadata": {},
     "output_type": "execute_result"
    }
   ],
   "source": [
    "# Fyll inn kode her\n",
    "\n",
    "def kmax(x0,x1, L=5/12, tol=1.e-5, max_iter = 50):\n",
    "    for i in range(max_iter+1):\n",
    "        e_k = ((L**i)/(1))*abs(x1-x0)\n",
    "        print(\"k =\",i,\" e_k =\", e_k)\n",
    "       \n",
    "        if e_k < tol:\n",
    "            break\n",
    "        \n",
    "kmax(x0 = 1.5, x1 = 2, L=5/12, tol=1.e-5, max_iter = 50)\n",
    "\n",
    "def fixedpoint(g, x0, r, tol=1.e-8, max_iter=30):\n",
    "    x = x0\n",
    "    print(f\"k ={0:3d}, x = {x:14.10f}\") \n",
    "    for k in range(max_iter):        \n",
    "        x_old = x                        # Store old values for error estimation \n",
    "        x = g(x)                         # The iteration\n",
    "        err = abs(x-r)                   # actual error \n",
    "        print(f\"k ={k+1:3d}, x = {x:14.10f}\") \n",
    "        if err < tol:                    # The solution is accepted \n",
    "            break\n",
    "    return x, k+1\n",
    "\n",
    "def g4(x):\n",
    "    return (2*x)/3 + 1/x\n",
    "\n",
    "fixedpoint(g4, x0 = 1.5, r = np.sqrt(3), tol=1.e-5, max_iter=30)"
   ]
  },
  {
   "cell_type": "markdown",
   "metadata": {},
   "source": [
    "**(e)**\n",
    "Siste skritt er å demonstrere lineær konvergens, slik det er forklart i [Preliminaries](http://www.math.ntnu.no/emner/TMA4320/2022v/notebooks/Preliminaries.ipynb), kapittelet om *Convergence of an iterative process*.\n",
    "\n",
    "Vi har konvergens av orden $p$ hvis   \n",
    "$$\n",
    "    |r-x_{k+1}| = C_k|r-x_k|^p, \\qquad  C_k \\rightarrow C \\text{ når } k\\rightarrow \\infty\n",
    "$$\n",
    "\n",
    "Modifiser `fixedpoint()` igjen slik at den returnerer feilen $|r-x_k|$ for alle $k$. \n",
    "Bruk `tol=1.e-8` og `x_0=1.5`.  Bruk dette til å beregne $C$ og $p$ slik det er forklart i *Preliminaries*.\n",
    "\n",
    "**Tenk over** om svaret er det du forventer.\n",
    "\n",
    "**Kontrollspørsmål 8** Hvilken beregnet verdi får du for $C$?"
   ]
  },
  {
   "cell_type": "code",
   "execution_count": 62,
   "metadata": {},
   "outputs": [
    {
     "name": "stdout",
     "output_type": "stream",
     "text": [
      "k =  0, x =   1.5000000000\n",
      "k =  1, x =   1.6666666667, error =  6.538e-02\n",
      "k =  2, x =   1.7111111111, error =  2.094e-02\n",
      "k =  3, x =   1.7251563252, error =  6.894e-03\n",
      "k =  4, x =   1.7297618312, error =  2.289e-03\n",
      "k =  5, x =   1.7312888251, error =  7.620e-04\n",
      "k =  6, x =   1.7317969252, error =  2.539e-04\n",
      "k =  7, x =   1.7319661925, error =  8.462e-05\n",
      "k =  8, x =   1.7320226039, error =  2.820e-05\n",
      "k =  9, x =   1.7320414065, error =  9.401e-06\n",
      "k = 10, x =   1.7320476739, error =  3.134e-06\n",
      "k = 11, x =   1.7320497630, error =  1.045e-06\n",
      "k = 12, x =   1.7320504594, error =  3.482e-07\n",
      "k = 13, x =   1.7320506915, error =  1.161e-07\n",
      "k = 14, x =   1.7320507689, error =  3.869e-08\n",
      "k = 15, x =   1.7320507947, error =  1.290e-08\n",
      "k = 16, x =   1.7320508033, error =  4.299e-09\n",
      "0.33172103153427523\n"
     ]
    }
   ],
   "source": [
    "def fixedpoint(g, x0, r, tol=1.e-8, max_iter=30):\n",
    "    x = x0\n",
    "    print(f\"k ={0:3d}, x = {x:14.10f}\") \n",
    "    for k in range(max_iter):        \n",
    "        x_old = x                        # Store old values for error estimation \n",
    "        x = g(x)                         # The iteration\n",
    "        err = abs(x-r)                   # actual error \n",
    "        print(f\"k ={k+1:3d}, x = {x:14.10f}, error = {err:10.3e}\") \n",
    "        if err < tol:                    # The solution is accepted \n",
    "            break\n",
    "    return x, k+1\n",
    "\n",
    "def g4(x):\n",
    "    return (2*x)/3 + 1/x\n",
    "\n",
    "fixedpoint(g4, x0 = 1.5, r = np.sqrt(3), tol=1.e-8, max_iter=30)\n",
    "\n",
    "#lineær konvergens: p=1. Ønsker å finne C\n",
    "#Sjekker for k = 15, da det er den største verdien vi har for k\n",
    "r = np.sqrt(3)\n",
    "k_16 = 1.7320508033\n",
    "k_15 = 1.7320507947\n",
    "C_k = abs(r-k_16)/abs(r-k_15)\n",
    "\n",
    "print(C_k)"
   ]
  },
  {
   "cell_type": "code",
   "execution_count": null,
   "metadata": {},
   "outputs": [],
   "source": []
  }
 ],
 "metadata": {
  "kernelspec": {
   "display_name": "Python 3",
   "language": "python",
   "name": "python3"
  },
  "language_info": {
   "codemirror_mode": {
    "name": "ipython",
    "version": 3
   },
   "file_extension": ".py",
   "mimetype": "text/x-python",
   "name": "python",
   "nbconvert_exporter": "python",
   "pygments_lexer": "ipython3",
   "version": "3.8.5"
  },
  "toc": {
   "base_numbering": 1,
   "nav_menu": {},
   "number_sections": true,
   "sideBar": true,
   "skip_h1_title": true,
   "title_cell": "Table of Contents",
   "title_sidebar": "Contents",
   "toc_cell": false,
   "toc_position": {},
   "toc_section_display": true,
   "toc_window_display": false
  }
 },
 "nbformat": 4,
 "nbformat_minor": 2
}
