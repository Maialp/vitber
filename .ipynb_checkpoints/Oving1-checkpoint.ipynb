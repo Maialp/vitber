{
 "cells": [
  {
   "cell_type": "markdown",
   "metadata": {},
   "source": [
    "# Øving 1, TMA4320\n",
    "\n",
    "* **Veiledning:** Foregår via Mattelab og Zoom, torsdag 20.01 kl. 10.15-12.00 og fredag 21.01 kl.08.15-10.00  vil det være opplegg for å melde inn ønske om Zoom-veiledning, følg med på Mattelab for organisering av dette.\n",
    "* **Innleveringsfrist:** Mandag 24.01, kl. 23.59.\n",
    "* **Innleveringsmetode** Følgende to krav er nødvendig for godkjenning\n",
    "    1. Opplasting av Jupyter Notebook (individuelt) i Blackboard\n",
    "    2. Svare på skjema med kontrollspørsmål under Øving 1 i Blackboard (minst 5 av 8 oppgaver må være besvart). \n",
    "    \n",
    "Før du utfører øvingen, gå gjennom notatene\n",
    "\n",
    "* [Introduction to Jupyter with Python](http://www.math.ntnu.no/emner/TMA4320/2022v/notebooks/Introduction.ipynb)\n",
    "* [Preliminaries](http://www.math.ntnu.no/emner/TMA4320/2022v/notebooks/Preliminaries.ipynb)\n",
    "\n",
    "Teorien brukt i denne øvingen finner du i notatet\n",
    "\n",
    "* [Numerical Solution of Nonlinear Equations](http://www.math.ntnu.no/emner/TMA4320/2022v/notebooks/NonLinearEquations.ipynb) \n",
    "\n",
    "Det er lagt inn noen **Tenk over**. Dette er spørsmål som ikke behøver besvares som en del av øvingen, men som kan dukke opp som eksamensspørsmål. Disse handler ofte om sammenheng mellom numeriske resultater og teori.  "
   ]
  },
  {
   "cell_type": "code",
   "execution_count": null,
   "metadata": {},
   "outputs": [],
   "source": [
    "%matplotlib inline\n",
    "\n",
    "import numpy as np\n",
    "from numpy.linalg import solve, norm    # Solve linear systems and compute norms\n",
    "import matplotlib.pyplot as plt\n",
    "newparams = {'figure.figsize': (8.0, 4.0), 'axes.grid': True,\n",
    "             'lines.markersize': 8, 'lines.linewidth': 2,\n",
    "             'font.size': 14}\n",
    "plt.rcParams.update(newparams)"
   ]
  },
  {
   "cell_type": "markdown",
   "metadata": {},
   "source": [
    "**Oppgave 1**\n",
    "\n",
    "La oss starte med intervallhalveringsmetoden. Vi søker nullpunkter i funksjonen\n",
    "$$\n",
    "f(x)=e^x+x^2-x-4 = 0\n",
    "$$\n",
    "\n",
    "**(a)** Start med å lage en Python-funksjon som definerer $f(x)$ og plott den i intervallet $[-2,2]$.\n",
    "\n",
    "**Kontrollspørsmål 1** Hvor mange nullpunkter har $f(x)$ i dette intervallet sett ut fra grafen?\n"
   ]
  },
  {
   "cell_type": "code",
   "execution_count": null,
   "metadata": {},
   "outputs": [],
   "source": [
    "# Fyll inn kode her"
   ]
  },
  {
   "cell_type": "markdown",
   "metadata": {},
   "source": [
    "**(b)**\n",
    "I denne oppgaven skal du bruke funksjonen `bisection()` til å beregne en av røttene til ligningen. \n",
    "Start med intervallet $[0,2]$, og bruk toleransen $10^{-6}$. \n",
    "\n",
    "**Tenk over:**\n",
    "* Hvilken av røttene er det sannsynlig at iterasjonene konvergerer mot? \n",
    "* Hvor mange iterasjoner trengs for å oppnå en nøyaktighet på minst $|x_k-r|\\leqslant 10^{-7}$?\n",
    "* Hva skjer hvis du prøver med intervallet $[-2,2]$? \n",
    "\n",
    "Hvordan sammenfaller dette med det du faktisk oppnår? \n",
    "\n",
    "**Kontrollspørsmål 2** Er roten du får ut med inngangsverdiene  $[a,b] =[0,2]$ og toleranse $10^{-6}$ større eller mindre enn 1.29?\n",
    "\n",
    "**Kontrollspørsmål 3** Hvor mange intervallhalveringer bruker funksjonen for å finne svaret?"
   ]
  },
  {
   "cell_type": "code",
   "execution_count": null,
   "metadata": {},
   "outputs": [],
   "source": [
    "def bisection(f, a, b, tol=1.e-6, max_iter = 100):\n",
    "    ''' Solve the scalar equation f(x)=0 by bisection \n",
    "        The result of each iteration is printed\n",
    "    Input:\n",
    "        f:        The function. \n",
    "        a, b:     Interval: \n",
    "        tol :     Tolerance\n",
    "        max_iter: Maximum number of iterations\n",
    "    Output:\n",
    "        the root and the number of iterations.\n",
    "    '''\n",
    "    fa = f(a)\n",
    "    fb = f(b)\n",
    "\n",
    "    assert fa*fb<0, 'Error: f(a)*f(b)>0, there may be no root in the interval.'\n",
    "    \n",
    "    for k in range(max_iter):\n",
    "        c = 0.5*(a+b)                 # The midpoint\n",
    "        fc = f(c)                   \n",
    "        print(f\"k ={k:3d}, a = {a:.6f}, b = {b:.6f}, c = {c:.6f}, f(c) = {fc:10.3e}\")\n",
    "        if abs(f(c)) < 1.e-14 or (b-a) < 2*tol:     # The zero is found!\n",
    "            break \n",
    "        elif fa*fc < 0:               \n",
    "            b = c                     # There is a root in [a, c]\n",
    "        else:\n",
    "            a = c                     # There is a root in [c, b]  \n",
    "    return c, k"
   ]
  },
  {
   "cell_type": "code",
   "execution_count": null,
   "metadata": {},
   "outputs": [],
   "source": [
    "# Fyll inn kode her"
   ]
  },
  {
   "cell_type": "markdown",
   "metadata": {},
   "source": [
    "**Oppgave 2**\n",
    "\n",
    "Denne oppgaven går ut på å løse ligningen \n",
    "$$\n",
    "f(x)=e^x+x^2-x-4 = 0\n",
    "$$\n",
    "ved hjelp av fikspunktiterasjoner. Her er tre mulige måter å skrive disse ligningene om på fikspunktform:\n",
    "$$\n",
    " \\begin{array}{ll}\n",
    "    i)   &x=g_1(x) =\\ln(4+x-x^2) \\\\[2mm]\n",
    "    ii)  &x=g_2(x) = \\sqrt{-e^x+x+4} \\\\[2mm]\n",
    "    iii) \\qquad &x=g_3(x) = e^x+x^2-4\n",
    "  \\end{array}\n",
    "$$\n",
    "Bruk koden `fixedpoint()`  til å finne ei rot av $f(x)$ ved bruk av fikspunktiterasjoner. \n",
    "Bruk $x_0=1.5$ som startverdi, og $Tol=10^{-6}$. \n",
    "\n",
    "**Kontrollspørsmål 4**  Hvilke av de tre omskrivningene konvergerer mot rota $r = 1.288677967$.\n",
    "\n",
    "Regn ut $g'(r)$ for de tre tilfellene, og **tenk over** hvordan resultatet over kan forklares ved bruk av fikspunktteoremet. "
   ]
  },
  {
   "cell_type": "code",
   "execution_count": null,
   "metadata": {},
   "outputs": [],
   "source": [
    "def fixedpoint(g, x0, tol=1.e-8, max_iter=30):\n",
    "    ''' Solve x=g(x) by fixed point iterations\n",
    "        The output of each iteration is printed\n",
    "    Input:\n",
    "        g:   The function g(x)\n",
    "        x0:  Initial values\n",
    "        tol: The tolerance\n",
    "    Output:\n",
    "        The root and the number of iterations\n",
    "    '''\n",
    "    x = x0\n",
    "    print(f\"k ={0:3d}, x = {x:14.10f}\") \n",
    "    for k in range(max_iter):        \n",
    "        x_old = x                        # Store old values for error estimation \n",
    "        x = g(x)                         # The iteration\n",
    "        err = abs(x-x_old)               # Error estimate\n",
    "        print(f\"k ={k+1:3d}, x = {x:14.10f}\") \n",
    "        if err < tol:                    # The solution is accepted \n",
    "            break\n",
    "    return x, k+1"
   ]
  },
  {
   "cell_type": "code",
   "execution_count": null,
   "metadata": {},
   "outputs": [],
   "source": [
    "# Fyll inn kode her"
   ]
  },
  {
   "cell_type": "markdown",
   "metadata": {},
   "source": [
    "**Oppgave 3**\n",
    "\n",
    "**(a)** Vis at $r=\\sqrt(3)$ er et fikspunkt av \n",
    "$$\n",
    "   x = g(x) = \\frac{2x}{3}+\\frac{1}{x}\n",
    "$$\n",
    "\n",
    "**(b)** Løs ligningen over ved bruk av `fixedpoint()`. Bruk $x_0=1.5$ og $Tol=1.e-5$.\n",
    "\n",
    "**Kontrollspørsmål 5** Hvor mange iterasjoner ble brukt? "
   ]
  },
  {
   "cell_type": "code",
   "execution_count": null,
   "metadata": {},
   "outputs": [],
   "source": [
    "# Fyll inn kode her"
   ]
  },
  {
   "cell_type": "markdown",
   "metadata": {},
   "source": [
    "Resten av denne oppgaven handler om å bruke siste del av fikspunktteoremet, og vise hvordan man kan verifisere teori med numeriske eksperimenter. \n",
    "Du behøver ikke levere inn utregningene, bare svare på kontrollspørsmålene. Men dette er potensielle eksamensoppgaver, så det kan være fornuftig å gjøre dem.\n",
    "\n",
    "**(c)** \n",
    "Gitt intervallet $[1.5,2.0]$. \n",
    "\n",
    "**Tenk over** om $g$ oppfyller alle betingelsene i *Fikspunktteoremet* i dette intervallet, og at $|g'(x)|\\leq 5/12$ for alle $x\\in[1.5,2.0]$. \n",
    "\n",
    "Bruk deretter *A-priori feilestimatet* fra fikspunktteoremet til å finne maksimalt antall iterasjoner $k_{maks}$ som trengs for at feilen $|x_k-r|$ garantert skal være mindre enn $10^{-5}$. Bruk $L=5/12$ og $x_0=1.5$.\n",
    "\n",
    "**Kontrollspørsmål 6**: Hva er $k_{maks}$? \n",
    "\n",
    "**(d)** Modifiser `fixedpoint()` slik at du stopper iterasjonene når når den virkelige feilen $|r-x_k|<=1.e-5$.\n",
    "\n",
    "**Kontrollspørsmål 7**: Hvor mange iterasjoner ble brukt denne gangen? \n",
    "\n",
    "*Sjekk*: Svaret fra kontrollspørsmål 8 bør være mindre eller lik enn svaret i kontrollspørsmal 7. Men det behøver ikke være lik svaret i kontrollspørsmål 6 (hvorfor ikke)?"
   ]
  },
  {
   "cell_type": "code",
   "execution_count": null,
   "metadata": {},
   "outputs": [],
   "source": [
    "# Fyll inn kode her"
   ]
  },
  {
   "cell_type": "markdown",
   "metadata": {},
   "source": [
    "**(e)**\n",
    "Siste skritt er å demonstrere lineær konvergens, slik det er forklart i [Preliminaries](http://www.math.ntnu.no/emner/TMA4320/2022v/notebooks/Preliminaries.ipynb), kapittelet om *Convergence of an iterative process*.\n",
    "\n",
    "Vi har konvergens av orden $p$ hvis   \n",
    "$$\n",
    "    |r-x_{k+1}| = C_k|r-x_k|^p, \\qquad  C_k \\rightarrow C \\text{ når } k\\rightarrow \\infty\n",
    "$$\n",
    "\n",
    "Modifiser `fixedpoint()` igjen slik at den returnerer feilen $|r-x_k|$ for alle $k$. \n",
    "Bruk `tol=1.e-8` og `x_0=1.5`.  Bruk dette til å beregne $C$ og $p$ slik det er forklart i *Preliminaries*.\n",
    "\n",
    "**Tenk over** om svaret er det du forventer.\n",
    "\n",
    "**Kontrollspørsmål 8** Hvilken beregnet verdi får du for $C$?"
   ]
  },
  {
   "cell_type": "code",
   "execution_count": null,
   "metadata": {},
   "outputs": [],
   "source": [
    "# "
   ]
  },
  {
   "cell_type": "code",
   "execution_count": null,
   "metadata": {},
   "outputs": [],
   "source": []
  }
 ],
 "metadata": {
  "kernelspec": {
   "display_name": "Python 3",
   "language": "python",
   "name": "python3"
  },
  "language_info": {
   "codemirror_mode": {
    "name": "ipython",
    "version": 3
   },
   "file_extension": ".py",
   "mimetype": "text/x-python",
   "name": "python",
   "nbconvert_exporter": "python",
   "pygments_lexer": "ipython3",
   "version": "3.8.5"
  },
  "toc": {
   "base_numbering": 1,
   "nav_menu": {},
   "number_sections": true,
   "sideBar": true,
   "skip_h1_title": true,
   "title_cell": "Table of Contents",
   "title_sidebar": "Contents",
   "toc_cell": false,
   "toc_position": {},
   "toc_section_display": true,
   "toc_window_display": false
  }
 },
 "nbformat": 4,
 "nbformat_minor": 2
}
