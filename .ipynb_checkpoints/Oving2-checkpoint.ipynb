{
 "cells": [
  {
   "cell_type": "markdown",
   "metadata": {},
   "source": [
    "# Øving 2, TMA4320\n",
    "\n",
    "* **Veiledning:** Foregår via Mattelab og Zoom, torsdag 27.01 kl. 10.15-12.00 og fredag 28.01 kl.08.15-10.00  vil det være opplegg for å melde inn ønske om Zoom-veiledning, følg med på Mattelab for organisering av dette.\n",
    "* **Innleveringsfrist:** Mandag 31.01, kl. 23.59.\n",
    "* **Innleveringsmetode** Følgende to krav er nødvendig for godkjenning\n",
    "    1. Opplasting av Jupyter Notebook (individuelt) i Blackboard\n",
    "    2. Svare på skjema med kontrollspørsmål under Øving 1 i Blackboard (minst 8 av 10 spørsmål må være riktige for godkjenning)\n",
    "    \n",
    "    \n",
    "Teorien brukt i denne øvingen finner du i notatet\n",
    "\n",
    "* [Numerical Solution of Nonlinear Equations](http://www.math.ntnu.no/emner/TMA4320/2022v/notebooks/NonLinearEquations.ipynb) \n",
    "* [Polynomial Interpolation](http://www.math.ntnu.no/emner/TMA4320/2022v/notebooks/PolynomialInterpolation.ipynb)\n"
   ]
  },
  {
   "cell_type": "code",
   "execution_count": 20,
   "metadata": {},
   "outputs": [],
   "source": [
    "%matplotlib inline\n",
    "\n",
    "import numpy as np\n",
    "from numpy.linalg import solve, norm    # Solve linear systems and compute norms\n",
    "import matplotlib.pyplot as plt\n",
    "newparams = {'figure.figsize': (8.0, 4.0), 'axes.grid': True,\n",
    "             'lines.markersize': 8, 'lines.linewidth': 2,\n",
    "             'font.size': 14}\n",
    "plt.rcParams.update(newparams)"
   ]
  },
  {
   "cell_type": "markdown",
   "metadata": {},
   "source": [
    "**Oppgave 1**\n",
    "Gitt det ikke-lineære ligningssystemet $\\mathbf{F}(\\mathbf{x})=0$, skrevet ut som\n",
    "\n",
    "$$\n",
    "\\begin{align*}\n",
    "x_1^3+x_1^2x_2 - x_1x_3+6 &= 0 \\\\\n",
    "e^{x_1}+e^{x_2} - x_3 &= 0 \\\\\n",
    "x_2^2-2x_1x_3-4 &= 0\n",
    "\\end{align*}\n",
    "$$\n",
    "Denne skal løses vha. av Newtons metode. Bruk $\\mathbf{x}_{0} = [-1, -2, 1]^T$ som startverdi. \n",
    "\n",
    "**Oppgave 1a:** Sett opp Jacobimatrisa $J(\\mathbf{x})$ til $\\mathbf{F}(\\mathbf{x})$. \n",
    "\n",
    "**Kontrollspørsmål 1:** Hva er $J_{11}(\\mathbf{x_0})$ ? \n",
    "\n",
    "**Oppgave 1b:**\n",
    "Løs ligningen med Newton's metode for systemer. Bruk gjerne koden fra notatet.\n",
    "\n",
    "**Kontrollspørsmål 2:** Hva er det første elementet i $\\mathbf{x}_5$, altså resultatet etter 5 iterasjoner? Oppgi svaret med minst 6 sifre. "
   ]
  },
  {
   "cell_type": "code",
   "execution_count": 23,
   "metadata": {},
   "outputs": [
    {
     "name": "stdout",
     "output_type": "stream",
     "text": [
      "k =   0, x = [-1, -2, 1]\n",
      "k =   1, x = [-1.63673833 -1.51427723  0.33470721]\n",
      "k =   2, x = [-1.4648569  -1.66823198  0.4141664 ]\n",
      "k =   3, x = [-1.45610741 -1.66419105  0.42247539]\n",
      "k =   4, x = [-1.4560428  -1.66423047  0.4224934 ]\n",
      "k =   5, x = [-1.4560428  -1.66423047  0.4224934 ]\n"
     ]
    },
    {
     "data": {
      "text/plain": [
       "(array([-1.4560428 , -1.66423047,  0.4224934 ]), 5)"
      ]
     },
     "execution_count": 23,
     "metadata": {},
     "output_type": "execute_result"
    }
   ],
   "source": [
    "# Fyll inn din kode her\n",
    "\n",
    "#Jakobimatrisa til F(x):\n",
    "def jac(x):\n",
    "    J = np.array([[3*(x[0])**2 + 2*x[0]*x[1]-x[2], x[0]**2, -x[0]],\n",
    "         [np.exp(x[0]), np.exp(x[1]), -1],\n",
    "         [-2*x[2], 2*x[1], -2*x[0]]])\n",
    "    return J\n",
    "\n",
    "def f(x):\n",
    "    f = np.array([x[0]**3 + (x[0])**2*x[1] - x[0]*x[2] + 6,\n",
    "        np.exp(x[0]) + np.exp(x[1]) - x[2],\n",
    "        x[1]**2 - 2*x[0]*x[2] - 4])\n",
    "    return f\n",
    "\n",
    "\n",
    "\n",
    "def newton_system(f, jac, x0, tol = 1.e-10, max_iter=20):\n",
    "    x = x0\n",
    "    print(f\"k = {0:3d}, x = {x}\")\n",
    "    for k in range(max_iter):\n",
    "        fx = f(x)\n",
    "        if norm(fx, np.inf) < tol:          # The solution is accepted. \n",
    "            break\n",
    "        Jx = jac(x)\n",
    "        delta = solve(Jx, -fx) \n",
    "        x = x + delta            \n",
    "        print(f\"k = {k+1:3d}, x = {x}\")\n",
    "    return x, k\n",
    "\n",
    "\n",
    "x_0 = [-1,-2,1]\n",
    "\n",
    "newton_system(f, jac, x_0, tol = 1.e-10, max_iter=20)"
   ]
  },
  {
   "cell_type": "markdown",
   "metadata": {},
   "source": [
    "**Oppgave 2**\n",
    "\n",
    "Denne oppgaven dreier seg om polynominterpolasjon. Bruk penn og papir til å finne svarene. \n",
    "\n",
    "La følgende interpolasjonsdata være gitt\n",
    "\n",
    "$$\n",
    " \\begin{array}{|r||r|r|r|r|}\n",
    " \\hline\n",
    " x_i & 0 & 1 & 2 & 4 \\\\ \\hline\n",
    " y_i & 1 & 5 & 11 & 5 \\\\ \\hline\n",
    " \\end{array}\n",
    "$$\n",
    "  \n",
    "Bestem Lagrangefunksjonene $\\ell_i(x),\\ i=0,\\ldots,3$ og bestem interpolasjonspolynomet $p_3(x)$ av grad 3.\n",
    "\n",
    "**Kontrollspørsmål 3:**\n",
    "Hva er koeffisienten foran $x^2$ i $\\ell_0$? \n",
    "\n",
    "**Kontrollspørsmål 4:**\n",
    "Hva er koeffisienten foran $x$ i $\\ell_1$? \n",
    "\n",
    "**Kontrollspørsmål 5:**\n",
    "Hva er koeffisienten foran $x$ i $\\ell_2$? \n",
    "\n",
    "**Kontrollspørsmål 6:**\n",
    "Hva er koeffisienten foran $x^2$ i $\\ell_3$?\n",
    "\n",
    "**Kontrollspørsmål 7:**\n",
    "Hva er koeffisienten foran $x^3$ i $p_3$? "
   ]
  },
  {
   "cell_type": "markdown",
   "metadata": {},
   "source": [
    "**Løsning 2:**\n",
    "\n",
    "$l_0(x) = -\\frac{1}{8}x^3 + \\frac{7}{8}x^2 - \\frac{7}{4}x + 1$\n",
    "\n",
    "$l_1(x) = \\frac{1}{3}x^3 -2x^2 + \\frac{8}{3}x$\n",
    "\n",
    "$l_2(x) = -\\frac{1}{4}x^3 + \\frac{5}{4}x^2 - x$\n",
    "\n",
    "$l_3(x) = \\frac{1}{24}x^3 - \\frac{1}{8}x^2 + \\frac{1}{12}x$\n",
    "\n",
    "\n",
    "$p_3(x) = -1x^3 + 4x^2 - 1x + 1$"
   ]
  },
  {
   "cell_type": "markdown",
   "metadata": {},
   "source": [
    "**Oppgave 3**\n",
    " \n",
    "Kvadratrotfunksjonen, $f(x)=\\sqrt{x}$ skal approksimeres med lineær interpolasjon med hensyn på abscissene\n",
    "$x_0=\\frac14$ og $x_1=1$.\n",
    "\n",
    "*Kommentar.* Klassiske biblioteksrutiner for beregning av $\\sqrt{x}$ gjør følgende: Først skalerer de argumentet $x$ ved å skrive det på formen $x=2^{2m}y$ der $m$ er et heltall og $\\leq\\frac14\\leq y<1$ slik at $\\sqrt{x}=2^m\\sqrt{y}$. Man kan så bruke Newtoniterasjon på $f(z)=z^2-y=0$ som tar formen $z_{k+1}=\\frac12(z_k+\\frac{y}{z_k})$. Men $z_0$ må bestemmes. Da kan man for eksempel benytte interpolasjon slik vi gjør her, og feilskranke er viktig.\n",
    " \n",
    "**Oppgave 3a.** Finn det lineære interpolasjonspolynomet $p(x)$ som interpolerer $f(x)$ i abscissene $x_0$ og $x_1$.\n",
    "\n",
    "**Kontrollspørsmål 8.** Angi $p(\\frac12)$."
   ]
  },
  {
   "cell_type": "markdown",
   "metadata": {},
   "source": [
    "**Løsning 3a.** \n",
    "\n",
    "Bruker de to punktene $(\\frac{1}{4}, \\frac{1}{2})$ og $(1,1)$ til å trekke linjen:\n",
    "$p(x) = \\frac{2}{3}x + \\frac{1}{3}$\n",
    "\n",
    "Dette gir $p(\\frac{1}{2}) =\\frac{2}{3}\\cdot\\frac{1}{2} + \\frac{1}{3} = \\frac{2}{3} $"
   ]
  },
  {
   "cell_type": "markdown",
   "metadata": {},
   "source": [
    "**Oppgave 3b.** Bruk den generelle feilformelen for interpolasjon til å lage en øvre skranke for feilen.\n",
    "Gjør dette ved først å bestemme $M=\\max_{t\\in[\\frac14,1]} |f''(t)|$, og deretter finne maximum av absoluttverdien til\n",
    "datapolynomet $(x-x_0)(x-x_1)$.</div>\n",
    "\n",
    "**Kontrollspørsmål 9.** Finn feilskranken."
   ]
  },
  {
   "cell_type": "markdown",
   "metadata": {},
   "source": [
    "**Løsning 3b.** \n",
    "\n",
    "$f(x) - p_n(x) = \\frac{f^{(n+1)}(\\xi(x))}{(n+1)!} \\Pi_{i=0}^n(x-x_i)$\n",
    "\n",
    "$M = 2$, \n",
    "$max |{(x-\\frac{1}{4})(x-1)}| = \\frac{9}{64}$ når $x =  \\frac{5}{8} $\n",
    "\n",
    "Øvre skranke blir da\n",
    "\n",
    "$max|f''(x)| = |-\\frac{1}{4} \\cdot \\frac{1}{(1/4)^{\\frac{3}{2}}}|  = \\frac{9}{64}$"
   ]
  },
  {
   "cell_type": "markdown",
   "metadata": {},
   "source": [
    "**Oppgave 3c.** Finn deretter eksakt maksimalfeil $\\max_{x\\in[\\frac14,1]} |f(x)-P(x)|$ og sammenlign denne med skranken fra **2b.** \n",
    "\n",
    "**Kontrollspørsmål 10.** Angi denne maksimalfeilen som en brøk $\\frac{p}{q}$ der $p$ og $q$ er relativt primiske heltall."
   ]
  },
  {
   "cell_type": "markdown",
   "metadata": {},
   "source": [
    "**Løsning 3c.** \n",
    "\n",
    "Tar differansen til de to funksjonene: \n",
    "$e(x) = f(x) - p(x) = \\sqrt{x} - \\frac{2}{3}x + \\frac{1}{3}$\n",
    "\n",
    "Finner maxpunktet ved å se hvor den deriverte er null: \n",
    "$\\frac{1}{2} x^{-\\frac{1}{2}} - \\frac{2}{3} = 0$ når $x = \\frac{9}{16}$\n",
    "\n",
    "Dette gir: \n",
    "$max|f(x) - p(x)| = \\frac{3}{4} - \\frac{2}{3}\\cdot \\frac{9}{16} - \\frac{1}{3} = \\frac{1}{24}$"
   ]
  },
  {
   "cell_type": "markdown",
   "metadata": {},
   "source": [
    "**Oppgave 4:**\n",
    "La $f(x)=e^{-x}$ være gitt på intervallet $[0,1]$. Funksjonen $f$ skal approximeres med et interpolasjonspolynom $p_n(x)$, med bruk av $n+1$ Chebyshev-noder. \n",
    "\n",
    "**Oppgave 4a:**\n",
    "Finn et uttrykk for en øvre grense for feilen $\\max_{x\\in[0,1]}|f(x)-p(x)|$ når $n=4$.\n",
    "\n",
    "**Oppgave 4b:**\n",
    "Velg ulike $n$, og plott funksjonen og interpolasjonspolynomet vha. kodene i notatet om polynominterpolasjon. Plott feilen $f(x)-p_n(x)$ også, og mål $\\max_{x\\in[0,1]}$. Sammenlign med svaret i oppgave 4a. \n",
    "\n",
    "Bruk `x=np.linspace(0,1,101)` i plottet, og også for å måle interpolasjonsfeilen. "
   ]
  },
  {
   "cell_type": "markdown",
   "metadata": {},
   "source": [
    "**Oppgave 4a:**\n",
    "\n",
    "$f(x) - p_4(x) = \\frac{(-1)^{4+1}e^0}{(4+1)!}(x-0)(x-\\frac{1}{4})(x-\\frac{1}{2})(x-\\frac{3}{4})(x-1)$\n",
    "\n",
    "Hvor $(x-0)(x-\\frac{1}{4})(x-\\frac{1}{2})(x-\\frac{3}{4})(x-1)$ har max når \n",
    "$x = \\frac{1}{40}(20-\\sqrt{150-10\\sqrt{145}})$ eller \n",
    "$x = \\frac{1}{40}(20+\\sqrt{10(15+\\sqrt{145})})$"
   ]
  },
  {
   "cell_type": "code",
   "execution_count": null,
   "metadata": {},
   "outputs": [],
   "source": [
    "#Fyll inn din kode her\n",
    "#Oppgave 4b: Fikk dessverre ikke tid til å implementere denne, håper det går fint! "
   ]
  }
 ],
 "metadata": {
  "kernelspec": {
   "display_name": "Python 3",
   "language": "python",
   "name": "python3"
  },
  "language_info": {
   "codemirror_mode": {
    "name": "ipython",
    "version": 3
   },
   "file_extension": ".py",
   "mimetype": "text/x-python",
   "name": "python",
   "nbconvert_exporter": "python",
   "pygments_lexer": "ipython3",
   "version": "3.8.5"
  },
  "toc": {
   "base_numbering": 1,
   "nav_menu": {},
   "number_sections": true,
   "sideBar": true,
   "skip_h1_title": true,
   "title_cell": "Table of Contents",
   "title_sidebar": "Contents",
   "toc_cell": false,
   "toc_position": {},
   "toc_section_display": true,
   "toc_window_display": false
  }
 },
 "nbformat": 4,
 "nbformat_minor": 4
}
