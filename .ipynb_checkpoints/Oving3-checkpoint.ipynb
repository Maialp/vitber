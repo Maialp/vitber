{
 "cells": [
  {
   "cell_type": "markdown",
   "metadata": {},
   "source": [
    "# Øving 3, TMA4320\n",
    "\n",
    "* **Veiledning:** Torsdag 10.15-12.00 og fredag 08.15-10.00 i R73 og på Zoom.\n",
    "* **Innleveringsfrist:** Mandag 21.02, kl. 23.59.\n",
    "* **Innleveringsmetode** Følgende to krav er nødvendig for godkjenning\n",
    "    1. Opplasting av Jupyter Notebook (individuelt) i Blackboard\n",
    "    2. Svare på skjema med kontrollspørsmål under Øving 1 i Blackboard (minst 5 av 7 spørsmål må være riktige for godkjenning)\n",
    "    \n",
    "Før du starter, gå gjennom notatet: \n",
    "\n",
    "* [Numerical Integration](http://www.math.ntnu.no/emner/TMA4320/2022v/notebooks/Quadrature.ipynb) "
   ]
  },
  {
   "cell_type": "code",
   "execution_count": 1,
   "metadata": {},
   "outputs": [],
   "source": [
    "%matplotlib inline\n",
    "\n",
    "import numpy as np\n",
    "from math import factorial\n",
    "import matplotlib.pyplot as plt\n",
    "newparams = {'figure.figsize': (8.0, 4.0), 'axes.grid': True,\n",
    "             'lines.markersize': 8, 'lines.linewidth': 2,\n",
    "             'font.size': 14}\n",
    "plt.rcParams.update(newparams)"
   ]
  },
  {
   "cell_type": "markdown",
   "metadata": {},
   "source": [
    "**Oppgave 1:** Bestem presisjonsgraden til kvadraturformelen\n",
    "$$\n",
    "  Q(a,b) = \\frac{b-a}{4}\\left(f(a)+3f(\\frac{a+2b}{3})\\right)\n",
    "$$\n",
    "**Kontrollspørsmål 1:** Hva er presisjonsgraden?\n",
    "\n",
    "Presisionsgraden = 2, da formelen holder for polynomer $1, x, x^2$"
   ]
  },
  {
   "cell_type": "markdown",
   "metadata": {},
   "source": [
    "**Oppgave 2:** \n",
    "Hensikten med denne oppgaven er å konstruere et adaptivt kvadratur etter oppskriften beskrevet i notatet [Numerical Integration](http://www.math.ntnu.no/emner/TMA4320/2022v/notebooks/Quadrature.ipynb), der for Simpsons formel, men denne gangen med et Gauss-Legendre kvadratur. Hvordan du finner disse er beskrevet helt i slutten av notatet. \n",
    "\n",
    "Gjennom hele oppgaven bruker vi integralet \n",
    "$$\n",
    "    I(1,3) = \\int_1^3 e^{-x}dx\n",
    "$$\n",
    "som testproblem. \n",
    "\n",
    "**(a)** Bestem Gauss-Legendre kvadraturet $Q$ med $n=3$ over intervallet $[-1,1]$. \n",
    "\n",
    "**Kontrollspørsmål 2:** Hva er nodene $t_0$, $t_1$ og $t_2$?\n",
    "Nodene finner man ved å finne nullpunktene til $L(t) = \\frac{d^n}{dt^n}(t^2-1)^n = \\frac{d^3}{dt^3}(t^2-1)^3 = 120t^3-72t$, som gir $t_0 = -\\sqrt{\\frac{3}{4}}, t_1 = 0, t_2 = \\sqrt{\\frac{3}{4}}$\n",
    "\n",
    "**Kontrollspørsmål 3:** Hva er de korresponderende vektene $w_0$, $w_1$ og $w_2$?\n",
    "\n",
    "Finner først cardinal-funksjonene, for så å integrere disse på intervallet $[-1,1]$, gir $w_0 = \\frac{5}{9}, w_1 = \\frac{8}{9}, w_2 = \\frac{5}{9}$"
   ]
  },
  {
   "cell_type": "markdown",
   "metadata": {},
   "source": [
    "**(b)** Verifiser at kvadraturet har presisjonsgrad 5. "
   ]
  },
  {
   "cell_type": "markdown",
   "metadata": {},
   "source": [
    "$f(x) = x^0$: $I = 2 = Q$\n",
    "\n",
    "$f(x) = x^1$: $I = 0 = Q$\n",
    "\n",
    "$f(x) = x^2$: $I = \\frac{2}{3} = Q$\n",
    "\n",
    "$f(x) = x^3$: $I = 0 = Q$\n",
    "\n",
    "$f(x) = x^4$: $I = \\frac{2}{5} = Q$\n",
    "\n",
    "$f(x) = x^5$: $I = 0 = Q$\n",
    "\n",
    "$f(x) = x^6$: $I = \\frac{2}{7},  Q = \\frac{6}{25}$\n",
    "\n",
    "Dermed har kvadraturet presisjonsgrad 5. "
   ]
  },
  {
   "cell_type": "markdown",
   "metadata": {},
   "source": [
    "**(c)** Overfør kvadraturet til et vilkårlig intervall $[a,b]$. For å gjøre det mer elegant, innfør midtpunktet $c=(a+b)/2$ og $h=(b-a)/2$, og uttrykk nodene ved hjelp av leddene $c$ og $h$. \n",
    "\n",
    "Får da $c = 2$, $h = 1$\n",
    "\n",
    "Bruker transformasjonen: $x = ht+c, dx = h$, altså $x = \\frac{b-a}{2} + \\frac{b+a}{2}$ og $dx = \\frac{b-a}{2}dt$\n",
    "\n",
    "Nodene blir da: \n",
    "\n",
    "$x_0 = \\frac{b-a}{2}t_0 + \\frac{b-1}{2} = -\\sqrt{\\frac{3}{5}}+2$\n",
    "\n",
    "$x_1 = \\frac{b-a}{2}t_1 + \\frac{b-1}{2} = 2$\n",
    "\n",
    "$x_2 = \\frac{b-a}{2}t_2 + \\frac{b-1}{2} = \\sqrt{\\frac{3}{5}}+2$\n",
    "\n",
    "Bruk kvadraturet til å finne en tilnærmelse til integralet $I(1,3)= \\int_1^3 e^{-x} dx$.\n",
    "\n",
    "Kvadraturet blir da: $\\frac{5}{9}f(-\\sqrt{\\frac{3}{5}}+2) +\\frac{8}{9}f(2) + \\frac{5}{9}f(\\sqrt{\\frac{3}{5}}+2)$\n",
    "\n",
    "**Kontrollspørsmål 4:** Hvor stor er feilen $E(1,3)=I(1,3)-Q(1,3)$ "
   ]
  },
  {
   "cell_type": "code",
   "execution_count": 2,
   "metadata": {},
   "outputs": [
    {
     "name": "stdout",
     "output_type": "stream",
     "text": [
      "8.858859198657143e-06\n"
     ]
    }
   ],
   "source": [
    "x_0 = -np.sqrt(3/5) + 2\n",
    "x_1 = 2\n",
    "x_2 = np.sqrt(3/5) + 2\n",
    "\n",
    "def f(x):\n",
    "    return np.e**(-x)\n",
    "\n",
    "# Q = Q(1,3)\n",
    "Q = 5/9 * f(x_0) + 8/9 * f(x_1) + 5/9 *f(x_2)\n",
    "I = -np.e**(-3)+ np.e**(-1)\n",
    "\n",
    "E = I-Q\n",
    "print(E)"
   ]
  },
  {
   "cell_type": "markdown",
   "metadata": {},
   "source": [
    "Du får nå oppgitt at feilen i Gauss-Legendre kvadraturet er gitt ved\n",
    "$$\n",
    "E(a,b) = \\frac{(b-a)^7}{2016000}f^{(6)}(\\eta), \\quad  \\eta \\in(a,b). \n",
    "$$\n",
    "\n",
    "Neste trinn er å lage et sammensatt kvadratur. Velg en $m$, la $H=(b-a)/m$, la $X_k=a+kH$, $k=0,1,\\dots,m$ og la det sammensatte kvadraturet være \n",
    "\n",
    "$$\n",
    "Q_m(a,b) = \\sum_{k=0}^{m-1}Q(X_k,X_{k+1}).\n",
    "$$\n",
    "\n",
    "**(d)** Finn et uttrykk for feilen i den sammensatte formelen, $E_m(a,b)=I(a,b)-Q_m(a,b)$. \n",
    "\n",
    "Bruk dette til å finne den minste verdien av $m$ som garanterer at \n",
    "$$\n",
    "|E_m(1,3)| \\leq 10^{-8}. \n",
    "$$\n",
    "\n",
    "Sammenlign med et tilsvarende resultat for sammensatt Simpson. \n",
    "\n",
    "**Kontrollspørsmål 5:** Hva er den minste verdien av $m$ som garanterer at feilen er mindre enn $10^{-8}$? "
   ]
  },
  {
   "cell_type": "code",
   "execution_count": 49,
   "metadata": {},
   "outputs": [
    {
     "name": "stdout",
     "output_type": "stream",
     "text": [
      "m = 1:  0.011305299578750372\n",
      "m = 2:  0.0014805988437079365\n",
      "m = 3:  0.00044059887539626974\n",
      "m = 4:  0.00018585898231548992\n",
      "m = 5:  9.508379886874474e-05\n",
      "m = 106:  9.897845043571607e-09\n"
     ]
    }
   ],
   "source": [
    "a = 1\n",
    "b = 3\n",
    "def X(k,m):\n",
    "    H = (b-a)/m\n",
    "    return a + k*H\n",
    "\n",
    "def Q(a,b):\n",
    "    return ((b-a)/4)*(f(a)+3*f((a+2*b)/3))\n",
    "m = 1\n",
    "Q_1 = Q(X(0, m), X(0+1, m)) \n",
    "m = 2\n",
    "Q_2 = Q(X(0,m), X(0+1,m)) + Q(X(1,m), X(1+1,m)) \n",
    "m = 3\n",
    "Q_3 = Q(X(0,m), X(0+1,m)) + Q(X(1,m), X(1+1,m)) + Q(X(2,m), X(2+1,m))\n",
    "m = 4\n",
    "Q_4 = Q(X(0,m), X(0+1,m)) + Q(X(1,m), X(1+1,m)) + Q(X(2,m), X(2+1,m)) + Q(X(3,m), X(3+1,m)) \n",
    "m = 5\n",
    "Q_5 = Q(X(0,m), X(0+1,m)) + Q(X(1,m), X(1+1,m)) + Q(X(2,m), X(2+1,m)) + Q(X(3,m), X(3+1,m))+Q(X(4,m), X(4+1,m)) \n",
    "m = 6\n",
    "Q_6 = Q(X(0,m), X(0+1,m)) + Q(X(1,m), X(1+1,m)) + Q(X(2,m), X(2+1,m)) + Q(X(3,m), X(3+1,m))+Q(X(4,m), X(4+1,m))+Q(X(5,m), X(5+1,m)) \n",
    "m = 106\n",
    "Q_106 = 0\n",
    "for i in range(m):\n",
    "    Q_106 += Q(X(i,m), X(i+1,m))\n",
    "\n",
    "\n",
    "E_1 = abs(I-Q_1)\n",
    "E_2 = abs(I-Q_2)\n",
    "E_3 = abs(I-Q_3)\n",
    "E_4 = abs(I-Q_4)\n",
    "E_5 = abs(I-Q_5)\n",
    "E_6 = abs(I-Q_6)\n",
    "E_106 = abs(I-Q_106)\n",
    "\n",
    "print(\"m = 1: \", E_1)\n",
    "print(\"m = 2: \", E_2)\n",
    "print(\"m = 3: \", E_3)\n",
    "print(\"m = 4: \", E_4)\n",
    "print(\"m = 5: \", E_5)\n",
    "print(\"m = 106: \", E_106)"
   ]
  },
  {
   "cell_type": "markdown",
   "metadata": {},
   "source": [
    "Siste skritt er å lage et adaptivt kvadratur. \n",
    "\n",
    "**(e)** Anta at intervallet $[a,b]$ er ganske lite, så $f^{(6)}$ varierer lite over intervallet. \n",
    "\n",
    "Basert på kvadraturene $Q_1(a,b)$ og $Q_2(a,b)$, finn et estimat (en numerisk tilnærmelse) for feilen i $Q_2(a,b)$. Feilestimat vil være av formen \n",
    "$$\n",
    "\\mathcal{E}_2 = \\frac{Q_2(a,b)-Q_1(a,b)}{D}.\n",
    "$$\n",
    "Hva er $D$?\n",
    "\n",
    "**Kontrollspørsmål 6:** Hva er verdien av $D$ i feilestimatet over. "
   ]
  },
  {
   "cell_type": "code",
   "execution_count": 51,
   "metadata": {},
   "outputs": [
    {
     "name": "stdout",
     "output_type": "stream",
     "text": [
      "-6.635626372932964\n"
     ]
    }
   ],
   "source": [
    "D = (Q_2-Q_1)/abs(E_2)\n",
    "\n",
    "print(D)"
   ]
  },
  {
   "cell_type": "markdown",
   "metadata": {},
   "source": [
    "**(f)** Skriv en funksjon `gauss_basis` (tilsvarende `simpson_basis` i notatet, men nå basert på Gauss-Legendre kvadraturet du har utviklet. \n",
    "\n",
    "Sjekk at funksjonen er rett implementert ved å sikre deg at alle polynomer opp til grad 5 integreres eksakt. "
   ]
  },
  {
   "cell_type": "code",
   "execution_count": 2,
   "metadata": {},
   "outputs": [],
   "source": [
    "def gauss_basic(f, a, b):\n",
    "    \"\"\"\n",
    "    Gauss-Legendre kvadrature (n=2) with error estimate\n",
    "    Input:  \n",
    "       f:    integrand\n",
    "       a, b: integration interval\n",
    "    Output:\n",
    "       Q_2(a,b) and the error estimate.\n",
    "    \"\"\" \n",
    "    c = 0.5*(a+b)\n",
    "    d = 0.5*(a+c)\n",
    "    e = 0.5*(c+b)\n",
    "    \n",
    "    H = b-a\n",
    "    Q1 = H*(f(a)+4*f(c)+f(b))/6\n",
    "    Q2 = 0.5*H*(f(a)+4*f(d)+2*f(c)+4*f(e)+f(b))/6\n",
    "\n",
    "    error_estimate = (S2-S1)/15  \n",
    "    return Q2, error_estimate"
   ]
  },
  {
   "cell_type": "markdown",
   "metadata": {},
   "source": [
    "**(g)** Lag en adaptiv integrator basert på Gauss-Legendre kvadraturet (i prinsippet trenger du bare å bytte ut `simpson_basis` med `gauss_basis` i `simpson_adaptive`). \n",
    "\n",
    "Test koden din på integralene: \n",
    "\n",
    "$$\n",
    "\\begin{align*}\n",
    "    i)  &&& \\int_1^3 e^{-x} dx \\\\\n",
    "   ii)  &&& \\int_0^5 \\frac{1}{1+16x^2} dx && \\\\\n",
    "  iii)  &&& \\int_0^2 \\left(\\frac{1}{(x-0.3)^2+0.01)} + \\frac{1}{(x-0.9)^2+0.04} \\right)dx     \n",
    "\\end{align*}\n",
    "$$\n",
    "\n",
    "Bruk toleransene $10^{-3}$, $10^{-6}$ og $10^{-10}$. \n",
    "I alle tilfellene, beregn feilen $E(a,b)$ og sammenlign med feiltoleransen. Er det en rimelig overrensstemmelse eller ikke? \n",
    "\n",
    "NB! Verdien av det siste integralet er $41.326213804391148551\\cdots$. \n",
    "\n",
    "**Kontrollspørsmål 7:**\n",
    "Hvor stor er den eksakte feilen i absoluttverdi i integral $iii)$ når Tol=$10^{-6}$?"
   ]
  },
  {
   "cell_type": "code",
   "execution_count": 4,
   "metadata": {},
   "outputs": [],
   "source": [
    "# Sett inn koden din her. "
   ]
  }
 ],
 "metadata": {
  "kernelspec": {
   "display_name": "Python 3",
   "language": "python",
   "name": "python3"
  },
  "language_info": {
   "codemirror_mode": {
    "name": "ipython",
    "version": 3
   },
   "file_extension": ".py",
   "mimetype": "text/x-python",
   "name": "python",
   "nbconvert_exporter": "python",
   "pygments_lexer": "ipython3",
   "version": "3.8.5"
  },
  "toc": {
   "base_numbering": 1,
   "nav_menu": {},
   "number_sections": true,
   "sideBar": true,
   "skip_h1_title": true,
   "title_cell": "Table of Contents",
   "title_sidebar": "Contents",
   "toc_cell": false,
   "toc_position": {},
   "toc_section_display": true,
   "toc_window_display": false
  }
 },
 "nbformat": 4,
 "nbformat_minor": 4
}
